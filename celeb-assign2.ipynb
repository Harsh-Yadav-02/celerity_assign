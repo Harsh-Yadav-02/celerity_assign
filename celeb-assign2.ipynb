{
 "cells": [
  {
   "cell_type": "markdown",
   "id": "d20f3f10",
   "metadata": {
    "papermill": {
     "duration": 0.00683,
     "end_time": "2023-05-04T14:49:49.116443",
     "exception": false,
     "start_time": "2023-05-04T14:49:49.109613",
     "status": "completed"
    },
    "tags": []
   },
   "source": [
    "# Assignment for Data Science intern - Celerity Consulting\n"
   ]
  },
  {
   "cell_type": "code",
   "execution_count": 1,
   "id": "64c4a5f3",
   "metadata": {
    "_cell_guid": "b1076dfc-b9ad-4769-8c92-a6c4dae69d19",
    "_uuid": "8f2839f25d086af736a60e9eeb907d3b93b6e0e5",
    "execution": {
     "iopub.execute_input": "2023-05-04T14:49:49.130724Z",
     "iopub.status.busy": "2023-05-04T14:49:49.130232Z",
     "iopub.status.idle": "2023-05-04T14:49:50.515093Z",
     "shell.execute_reply": "2023-05-04T14:49:50.514267Z"
    },
    "papermill": {
     "duration": 1.395072,
     "end_time": "2023-05-04T14:49:50.517598",
     "exception": false,
     "start_time": "2023-05-04T14:49:49.122526",
     "status": "completed"
    },
    "tags": []
   },
   "outputs": [
    {
     "name": "stderr",
     "output_type": "stream",
     "text": [
      "/opt/conda/lib/python3.10/site-packages/scipy/__init__.py:146: UserWarning: A NumPy version >=1.16.5 and <1.23.0 is required for this version of SciPy (detected version 1.23.5\n",
      "  warnings.warn(f\"A NumPy version >={np_minversion} and <{np_maxversion}\"\n"
     ]
    }
   ],
   "source": [
    "import pandas as pd\n",
    "import matplotlib as plt\n",
    "import numpy as np\n",
    "from sklearn.model_selection import train_test_split\n",
    "from sklearn.linear_model import LinearRegression\n",
    "from sklearn.metrics import mean_squared_error\n",
    "from sklearn.preprocessing import OneHotEncoder"
   ]
  },
  {
   "cell_type": "code",
   "execution_count": 2,
   "id": "dcfc7ec6",
   "metadata": {
    "execution": {
     "iopub.execute_input": "2023-05-04T14:49:50.531323Z",
     "iopub.status.busy": "2023-05-04T14:49:50.530941Z",
     "iopub.status.idle": "2023-05-04T14:49:50.555475Z",
     "shell.execute_reply": "2023-05-04T14:49:50.554569Z"
    },
    "papermill": {
     "duration": 0.034525,
     "end_time": "2023-05-04T14:49:50.558200",
     "exception": false,
     "start_time": "2023-05-04T14:49:50.523675",
     "status": "completed"
    },
    "tags": []
   },
   "outputs": [],
   "source": [
    "df = pd.read_csv('/kaggle/input/celeb-assign2datasets/sample data - air.csv')"
   ]
  },
  {
   "cell_type": "code",
   "execution_count": 3,
   "id": "e6936003",
   "metadata": {
    "execution": {
     "iopub.execute_input": "2023-05-04T14:49:50.572385Z",
     "iopub.status.busy": "2023-05-04T14:49:50.571725Z",
     "iopub.status.idle": "2023-05-04T14:49:50.604319Z",
     "shell.execute_reply": "2023-05-04T14:49:50.603504Z"
    },
    "papermill": {
     "duration": 0.042148,
     "end_time": "2023-05-04T14:49:50.606459",
     "exception": false,
     "start_time": "2023-05-04T14:49:50.564311",
     "status": "completed"
    },
    "tags": []
   },
   "outputs": [
    {
     "name": "stdout",
     "output_type": "stream",
     "text": [
      "<class 'pandas.core.frame.DataFrame'>\n",
      "RangeIndex: 79 entries, 0 to 78\n",
      "Data columns (total 6 columns):\n",
      " #   Column          Non-Null Count  Dtype \n",
      "---  ------          --------------  ----- \n",
      " 0   FROM            5 non-null      object\n",
      " 1   TO              22 non-null     object\n",
      " 2   TRANSIT TIME    75 non-null     object\n",
      " 3   AIRWAYS         75 non-null     object\n",
      " 4   Freight per kg  69 non-null     object\n",
      " 5   Operation Type  75 non-null     object\n",
      "dtypes: object(6)\n",
      "memory usage: 3.8+ KB\n"
     ]
    }
   ],
   "source": [
    "df.info()"
   ]
  },
  {
   "cell_type": "code",
   "execution_count": 4,
   "id": "1a81a9c9",
   "metadata": {
    "execution": {
     "iopub.execute_input": "2023-05-04T14:49:50.620445Z",
     "iopub.status.busy": "2023-05-04T14:49:50.620018Z",
     "iopub.status.idle": "2023-05-04T14:49:50.646855Z",
     "shell.execute_reply": "2023-05-04T14:49:50.645756Z"
    },
    "papermill": {
     "duration": 0.036496,
     "end_time": "2023-05-04T14:49:50.649121",
     "exception": false,
     "start_time": "2023-05-04T14:49:50.612625",
     "status": "completed"
    },
    "tags": []
   },
   "outputs": [
    {
     "data": {
      "text/html": [
       "<div>\n",
       "<style scoped>\n",
       "    .dataframe tbody tr th:only-of-type {\n",
       "        vertical-align: middle;\n",
       "    }\n",
       "\n",
       "    .dataframe tbody tr th {\n",
       "        vertical-align: top;\n",
       "    }\n",
       "\n",
       "    .dataframe thead th {\n",
       "        text-align: right;\n",
       "    }\n",
       "</style>\n",
       "<table border=\"1\" class=\"dataframe\">\n",
       "  <thead>\n",
       "    <tr style=\"text-align: right;\">\n",
       "      <th></th>\n",
       "      <th>FROM</th>\n",
       "      <th>TO</th>\n",
       "      <th>TRANSIT TIME</th>\n",
       "      <th>AIRWAYS</th>\n",
       "      <th>Freight per kg</th>\n",
       "      <th>Operation Type</th>\n",
       "    </tr>\n",
       "  </thead>\n",
       "  <tbody>\n",
       "    <tr>\n",
       "      <th>0</th>\n",
       "      <td>Chhatrapati Shivaji Maharaj International Airp...</td>\n",
       "      <td>Los Angeles International Airport (LAX)</td>\n",
       "      <td>98 hours 37 minutes</td>\n",
       "      <td>QATAR AIRWAYS</td>\n",
       "      <td>₹6,459</td>\n",
       "      <td>passenger</td>\n",
       "    </tr>\n",
       "    <tr>\n",
       "      <th>1</th>\n",
       "      <td>NaN</td>\n",
       "      <td>NaN</td>\n",
       "      <td>98 hours 37 minutes</td>\n",
       "      <td>EMIRATES</td>\n",
       "      <td>₹6,512</td>\n",
       "      <td>freighter</td>\n",
       "    </tr>\n",
       "    <tr>\n",
       "      <th>2</th>\n",
       "      <td>NaN</td>\n",
       "      <td>Chicago O'Hare International Airport (ORD)</td>\n",
       "      <td>98 hours 37 minutes</td>\n",
       "      <td>ETIHAD AIRWAYS</td>\n",
       "      <td>₹6,307</td>\n",
       "      <td>freighter</td>\n",
       "    </tr>\n",
       "    <tr>\n",
       "      <th>3</th>\n",
       "      <td>NaN</td>\n",
       "      <td>NaN</td>\n",
       "      <td>98 hours 37 minutes</td>\n",
       "      <td>QATAR AIRWAYS</td>\n",
       "      <td>₹6,459</td>\n",
       "      <td>passenger</td>\n",
       "    </tr>\n",
       "    <tr>\n",
       "      <th>4</th>\n",
       "      <td>NaN</td>\n",
       "      <td>NaN</td>\n",
       "      <td>98 hours 37 minutes</td>\n",
       "      <td>EMIRATES</td>\n",
       "      <td>₹6,511</td>\n",
       "      <td>freighter</td>\n",
       "    </tr>\n",
       "  </tbody>\n",
       "</table>\n",
       "</div>"
      ],
      "text/plain": [
       "                                                FROM  \\\n",
       "0  Chhatrapati Shivaji Maharaj International Airp...   \n",
       "1                                                NaN   \n",
       "2                                                NaN   \n",
       "3                                                NaN   \n",
       "4                                                NaN   \n",
       "\n",
       "                                           TO         TRANSIT TIME  \\\n",
       "0     Los Angeles International Airport (LAX)  98 hours 37 minutes   \n",
       "1                                         NaN  98 hours 37 minutes   \n",
       "2  Chicago O'Hare International Airport (ORD)  98 hours 37 minutes   \n",
       "3                                         NaN  98 hours 37 minutes   \n",
       "4                                         NaN  98 hours 37 minutes   \n",
       "\n",
       "          AIRWAYS Freight per kg Operation Type  \n",
       "0   QATAR AIRWAYS         ₹6,459      passenger  \n",
       "1        EMIRATES         ₹6,512      freighter  \n",
       "2  ETIHAD AIRWAYS         ₹6,307      freighter  \n",
       "3   QATAR AIRWAYS         ₹6,459      passenger  \n",
       "4        EMIRATES         ₹6,511      freighter  "
      ]
     },
     "execution_count": 4,
     "metadata": {},
     "output_type": "execute_result"
    }
   ],
   "source": [
    "df.head()"
   ]
  },
  {
   "cell_type": "code",
   "execution_count": 5,
   "id": "67b49caf",
   "metadata": {
    "execution": {
     "iopub.execute_input": "2023-05-04T14:49:50.663606Z",
     "iopub.status.busy": "2023-05-04T14:49:50.663205Z",
     "iopub.status.idle": "2023-05-04T14:49:50.667978Z",
     "shell.execute_reply": "2023-05-04T14:49:50.666874Z"
    },
    "papermill": {
     "duration": 0.014712,
     "end_time": "2023-05-04T14:49:50.670265",
     "exception": false,
     "start_time": "2023-05-04T14:49:50.655553",
     "status": "completed"
    },
    "tags": []
   },
   "outputs": [],
   "source": [
    "df1 =df"
   ]
  },
  {
   "cell_type": "code",
   "execution_count": 6,
   "id": "302bc8ea",
   "metadata": {
    "execution": {
     "iopub.execute_input": "2023-05-04T14:49:50.685265Z",
     "iopub.status.busy": "2023-05-04T14:49:50.684331Z",
     "iopub.status.idle": "2023-05-04T14:49:50.693916Z",
     "shell.execute_reply": "2023-05-04T14:49:50.693002Z"
    },
    "papermill": {
     "duration": 0.019558,
     "end_time": "2023-05-04T14:49:50.696268",
     "exception": false,
     "start_time": "2023-05-04T14:49:50.676710",
     "status": "completed"
    },
    "tags": []
   },
   "outputs": [],
   "source": [
    "df1 = df1.fillna(method='ffill', axis=0)"
   ]
  },
  {
   "cell_type": "code",
   "execution_count": 7,
   "id": "b0872054",
   "metadata": {
    "execution": {
     "iopub.execute_input": "2023-05-04T14:49:50.710974Z",
     "iopub.status.busy": "2023-05-04T14:49:50.710330Z",
     "iopub.status.idle": "2023-05-04T14:49:50.722039Z",
     "shell.execute_reply": "2023-05-04T14:49:50.720976Z"
    },
    "papermill": {
     "duration": 0.021341,
     "end_time": "2023-05-04T14:49:50.724069",
     "exception": false,
     "start_time": "2023-05-04T14:49:50.702728",
     "status": "completed"
    },
    "tags": []
   },
   "outputs": [
    {
     "data": {
      "text/html": [
       "<div>\n",
       "<style scoped>\n",
       "    .dataframe tbody tr th:only-of-type {\n",
       "        vertical-align: middle;\n",
       "    }\n",
       "\n",
       "    .dataframe tbody tr th {\n",
       "        vertical-align: top;\n",
       "    }\n",
       "\n",
       "    .dataframe thead th {\n",
       "        text-align: right;\n",
       "    }\n",
       "</style>\n",
       "<table border=\"1\" class=\"dataframe\">\n",
       "  <thead>\n",
       "    <tr style=\"text-align: right;\">\n",
       "      <th></th>\n",
       "      <th>FROM</th>\n",
       "      <th>TO</th>\n",
       "      <th>TRANSIT TIME</th>\n",
       "      <th>AIRWAYS</th>\n",
       "      <th>Freight per kg</th>\n",
       "      <th>Operation Type</th>\n",
       "    </tr>\n",
       "  </thead>\n",
       "  <tbody>\n",
       "    <tr>\n",
       "      <th>0</th>\n",
       "      <td>Chhatrapati Shivaji Maharaj International Airp...</td>\n",
       "      <td>Los Angeles International Airport (LAX)</td>\n",
       "      <td>98 hours 37 minutes</td>\n",
       "      <td>QATAR AIRWAYS</td>\n",
       "      <td>₹6,459</td>\n",
       "      <td>passenger</td>\n",
       "    </tr>\n",
       "    <tr>\n",
       "      <th>1</th>\n",
       "      <td>Chhatrapati Shivaji Maharaj International Airp...</td>\n",
       "      <td>Los Angeles International Airport (LAX)</td>\n",
       "      <td>98 hours 37 minutes</td>\n",
       "      <td>EMIRATES</td>\n",
       "      <td>₹6,512</td>\n",
       "      <td>freighter</td>\n",
       "    </tr>\n",
       "    <tr>\n",
       "      <th>2</th>\n",
       "      <td>Chhatrapati Shivaji Maharaj International Airp...</td>\n",
       "      <td>Chicago O'Hare International Airport (ORD)</td>\n",
       "      <td>98 hours 37 minutes</td>\n",
       "      <td>ETIHAD AIRWAYS</td>\n",
       "      <td>₹6,307</td>\n",
       "      <td>freighter</td>\n",
       "    </tr>\n",
       "    <tr>\n",
       "      <th>3</th>\n",
       "      <td>Chhatrapati Shivaji Maharaj International Airp...</td>\n",
       "      <td>Chicago O'Hare International Airport (ORD)</td>\n",
       "      <td>98 hours 37 minutes</td>\n",
       "      <td>QATAR AIRWAYS</td>\n",
       "      <td>₹6,459</td>\n",
       "      <td>passenger</td>\n",
       "    </tr>\n",
       "    <tr>\n",
       "      <th>4</th>\n",
       "      <td>Chhatrapati Shivaji Maharaj International Airp...</td>\n",
       "      <td>Chicago O'Hare International Airport (ORD)</td>\n",
       "      <td>98 hours 37 minutes</td>\n",
       "      <td>EMIRATES</td>\n",
       "      <td>₹6,511</td>\n",
       "      <td>freighter</td>\n",
       "    </tr>\n",
       "  </tbody>\n",
       "</table>\n",
       "</div>"
      ],
      "text/plain": [
       "                                                FROM  \\\n",
       "0  Chhatrapati Shivaji Maharaj International Airp...   \n",
       "1  Chhatrapati Shivaji Maharaj International Airp...   \n",
       "2  Chhatrapati Shivaji Maharaj International Airp...   \n",
       "3  Chhatrapati Shivaji Maharaj International Airp...   \n",
       "4  Chhatrapati Shivaji Maharaj International Airp...   \n",
       "\n",
       "                                           TO         TRANSIT TIME  \\\n",
       "0     Los Angeles International Airport (LAX)  98 hours 37 minutes   \n",
       "1     Los Angeles International Airport (LAX)  98 hours 37 minutes   \n",
       "2  Chicago O'Hare International Airport (ORD)  98 hours 37 minutes   \n",
       "3  Chicago O'Hare International Airport (ORD)  98 hours 37 minutes   \n",
       "4  Chicago O'Hare International Airport (ORD)  98 hours 37 minutes   \n",
       "\n",
       "          AIRWAYS Freight per kg Operation Type  \n",
       "0   QATAR AIRWAYS         ₹6,459      passenger  \n",
       "1        EMIRATES         ₹6,512      freighter  \n",
       "2  ETIHAD AIRWAYS         ₹6,307      freighter  \n",
       "3   QATAR AIRWAYS         ₹6,459      passenger  \n",
       "4        EMIRATES         ₹6,511      freighter  "
      ]
     },
     "execution_count": 7,
     "metadata": {},
     "output_type": "execute_result"
    }
   ],
   "source": [
    "df1.head()"
   ]
  },
  {
   "cell_type": "code",
   "execution_count": 8,
   "id": "0a529e0f",
   "metadata": {
    "execution": {
     "iopub.execute_input": "2023-05-04T14:49:50.739070Z",
     "iopub.status.busy": "2023-05-04T14:49:50.738437Z",
     "iopub.status.idle": "2023-05-04T14:49:50.751495Z",
     "shell.execute_reply": "2023-05-04T14:49:50.750340Z"
    },
    "papermill": {
     "duration": 0.023294,
     "end_time": "2023-05-04T14:49:50.753807",
     "exception": false,
     "start_time": "2023-05-04T14:49:50.730513",
     "status": "completed"
    },
    "tags": []
   },
   "outputs": [
    {
     "data": {
      "text/html": [
       "<div>\n",
       "<style scoped>\n",
       "    .dataframe tbody tr th:only-of-type {\n",
       "        vertical-align: middle;\n",
       "    }\n",
       "\n",
       "    .dataframe tbody tr th {\n",
       "        vertical-align: top;\n",
       "    }\n",
       "\n",
       "    .dataframe thead th {\n",
       "        text-align: right;\n",
       "    }\n",
       "</style>\n",
       "<table border=\"1\" class=\"dataframe\">\n",
       "  <thead>\n",
       "    <tr style=\"text-align: right;\">\n",
       "      <th></th>\n",
       "      <th>FROM</th>\n",
       "      <th>TO</th>\n",
       "      <th>TRANSIT TIME</th>\n",
       "      <th>AIRWAYS</th>\n",
       "      <th>Freight per kg</th>\n",
       "      <th>Operation Type</th>\n",
       "    </tr>\n",
       "  </thead>\n",
       "  <tbody>\n",
       "    <tr>\n",
       "      <th>69</th>\n",
       "      <td>Kempegowda International Airport Bengaluru (BLR)</td>\n",
       "      <td>Los Angeles International Airport (LAX)</td>\n",
       "      <td>98 hours 37 minutes</td>\n",
       "      <td>AIR INDIA</td>\n",
       "      <td>₹3,604</td>\n",
       "      <td>passenger</td>\n",
       "    </tr>\n",
       "    <tr>\n",
       "      <th>70</th>\n",
       "      <td>Kempegowda International Airport Bengaluru (BLR)</td>\n",
       "      <td>Los Angeles International Airport (LAX)</td>\n",
       "      <td>98 hours 37 minutes</td>\n",
       "      <td>EMIRATES</td>\n",
       "      <td>₹6,511</td>\n",
       "      <td>passenger</td>\n",
       "    </tr>\n",
       "    <tr>\n",
       "      <th>71</th>\n",
       "      <td>Kempegowda International Airport Bengaluru (BLR)</td>\n",
       "      <td>Los Angeles International Airport (LAX)</td>\n",
       "      <td>98 hours 37 minutes</td>\n",
       "      <td>SINGAPORE AIRLINES</td>\n",
       "      <td>3,802</td>\n",
       "      <td>passenger</td>\n",
       "    </tr>\n",
       "    <tr>\n",
       "      <th>72</th>\n",
       "      <td>Kempegowda International Airport Bengaluru (BLR)</td>\n",
       "      <td>Los Angeles International Airport (LAX)</td>\n",
       "      <td>98 hours 37 minutes</td>\n",
       "      <td>SINGAPORE AIRLINES</td>\n",
       "      <td>3,802</td>\n",
       "      <td>passenger</td>\n",
       "    </tr>\n",
       "    <tr>\n",
       "      <th>73</th>\n",
       "      <td>Cochin International Airport (COK)</td>\n",
       "      <td>Los Angeles International Airport (LAX)</td>\n",
       "      <td>98 hours 37 minutes</td>\n",
       "      <td>EMIRATES</td>\n",
       "      <td>3,802</td>\n",
       "      <td>passenger</td>\n",
       "    </tr>\n",
       "    <tr>\n",
       "      <th>74</th>\n",
       "      <td>Cochin International Airport (COK)</td>\n",
       "      <td>Los Angeles International Airport (LAX)</td>\n",
       "      <td>98 hours 37 minutes</td>\n",
       "      <td>QATAR AIRWAYS</td>\n",
       "      <td>3,802</td>\n",
       "      <td>passenger</td>\n",
       "    </tr>\n",
       "    <tr>\n",
       "      <th>75</th>\n",
       "      <td>Cochin International Airport (COK)</td>\n",
       "      <td>Los Angeles International Airport (LAX)</td>\n",
       "      <td>98 hours 37 minutes</td>\n",
       "      <td>AIR INDIA</td>\n",
       "      <td>3,802</td>\n",
       "      <td>passenger</td>\n",
       "    </tr>\n",
       "    <tr>\n",
       "      <th>76</th>\n",
       "      <td>Cochin International Airport (COK)</td>\n",
       "      <td>Chicago O'Hare International Airport (ORD)</td>\n",
       "      <td>98 hours 37 minutes</td>\n",
       "      <td>EMIRATES</td>\n",
       "      <td>3,802</td>\n",
       "      <td>passenger</td>\n",
       "    </tr>\n",
       "    <tr>\n",
       "      <th>77</th>\n",
       "      <td>Cochin International Airport (COK)</td>\n",
       "      <td>Chicago O'Hare International Airport (ORD)</td>\n",
       "      <td>98 hours 37 minutes</td>\n",
       "      <td>QATAR AIRWAYS</td>\n",
       "      <td>3,802</td>\n",
       "      <td>passenger</td>\n",
       "    </tr>\n",
       "    <tr>\n",
       "      <th>78</th>\n",
       "      <td>Cochin International Airport (COK)</td>\n",
       "      <td>Chicago O'Hare International Airport (ORD)</td>\n",
       "      <td>98 hours 37 minutes</td>\n",
       "      <td>AIR INDIA</td>\n",
       "      <td>3,802</td>\n",
       "      <td>passenger</td>\n",
       "    </tr>\n",
       "  </tbody>\n",
       "</table>\n",
       "</div>"
      ],
      "text/plain": [
       "                                                FROM  \\\n",
       "69  Kempegowda International Airport Bengaluru (BLR)   \n",
       "70  Kempegowda International Airport Bengaluru (BLR)   \n",
       "71  Kempegowda International Airport Bengaluru (BLR)   \n",
       "72  Kempegowda International Airport Bengaluru (BLR)   \n",
       "73                Cochin International Airport (COK)   \n",
       "74                Cochin International Airport (COK)   \n",
       "75                Cochin International Airport (COK)   \n",
       "76                Cochin International Airport (COK)   \n",
       "77                Cochin International Airport (COK)   \n",
       "78                Cochin International Airport (COK)   \n",
       "\n",
       "                                            TO          TRANSIT TIME  \\\n",
       "69     Los Angeles International Airport (LAX)   98 hours 37 minutes   \n",
       "70     Los Angeles International Airport (LAX)   98 hours 37 minutes   \n",
       "71     Los Angeles International Airport (LAX)   98 hours 37 minutes   \n",
       "72     Los Angeles International Airport (LAX)   98 hours 37 minutes   \n",
       "73     Los Angeles International Airport (LAX)   98 hours 37 minutes   \n",
       "74     Los Angeles International Airport (LAX)   98 hours 37 minutes   \n",
       "75     Los Angeles International Airport (LAX)   98 hours 37 minutes   \n",
       "76  Chicago O'Hare International Airport (ORD)   98 hours 37 minutes   \n",
       "77  Chicago O'Hare International Airport (ORD)   98 hours 37 minutes   \n",
       "78  Chicago O'Hare International Airport (ORD)   98 hours 37 minutes   \n",
       "\n",
       "               AIRWAYS Freight per kg Operation Type  \n",
       "69           AIR INDIA         ₹3,604      passenger  \n",
       "70            EMIRATES         ₹6,511      passenger  \n",
       "71  SINGAPORE AIRLINES          3,802      passenger  \n",
       "72  SINGAPORE AIRLINES          3,802      passenger  \n",
       "73            EMIRATES          3,802      passenger  \n",
       "74       QATAR AIRWAYS          3,802      passenger  \n",
       "75           AIR INDIA          3,802      passenger  \n",
       "76            EMIRATES          3,802      passenger  \n",
       "77       QATAR AIRWAYS          3,802      passenger  \n",
       "78           AIR INDIA          3,802      passenger  "
      ]
     },
     "execution_count": 8,
     "metadata": {},
     "output_type": "execute_result"
    }
   ],
   "source": [
    "df1.tail(10)"
   ]
  },
  {
   "cell_type": "code",
   "execution_count": 9,
   "id": "10839a80",
   "metadata": {
    "execution": {
     "iopub.execute_input": "2023-05-04T14:49:50.769336Z",
     "iopub.status.busy": "2023-05-04T14:49:50.768965Z",
     "iopub.status.idle": "2023-05-04T14:49:50.780326Z",
     "shell.execute_reply": "2023-05-04T14:49:50.779245Z"
    },
    "papermill": {
     "duration": 0.021992,
     "end_time": "2023-05-04T14:49:50.782699",
     "exception": false,
     "start_time": "2023-05-04T14:49:50.760707",
     "status": "completed"
    },
    "tags": []
   },
   "outputs": [],
   "source": [
    "# extract hours and minutes information and convert to numerical format\n",
    "df1['hours'] = df1['TRANSIT TIME'].str.extract('(\\d+) hours', expand=False).fillna(0).astype(int)\n",
    "df1['hours1'] = df1['TRANSIT TIME'].str.extract('(\\d+)\\s*[Hh]rs?', expand=False).fillna(0).astype(int)\n",
    "df1['minutes'] = df1['TRANSIT TIME'].str.extract('(\\d+) minutes', expand=False).fillna(0).astype(int)\n",
    "\n",
    "# calculate the total time in minutes\n",
    "df1['total_time_in_minutes'] = df1['hours'] * 60 + df1['minutes'] + df1['hours1']*60"
   ]
  },
  {
   "cell_type": "code",
   "execution_count": 10,
   "id": "62b486f8",
   "metadata": {
    "execution": {
     "iopub.execute_input": "2023-05-04T14:49:50.798579Z",
     "iopub.status.busy": "2023-05-04T14:49:50.797758Z",
     "iopub.status.idle": "2023-05-04T14:49:50.811864Z",
     "shell.execute_reply": "2023-05-04T14:49:50.810775Z"
    },
    "papermill": {
     "duration": 0.024432,
     "end_time": "2023-05-04T14:49:50.813989",
     "exception": false,
     "start_time": "2023-05-04T14:49:50.789557",
     "status": "completed"
    },
    "tags": []
   },
   "outputs": [
    {
     "data": {
      "text/html": [
       "<div>\n",
       "<style scoped>\n",
       "    .dataframe tbody tr th:only-of-type {\n",
       "        vertical-align: middle;\n",
       "    }\n",
       "\n",
       "    .dataframe tbody tr th {\n",
       "        vertical-align: top;\n",
       "    }\n",
       "\n",
       "    .dataframe thead th {\n",
       "        text-align: right;\n",
       "    }\n",
       "</style>\n",
       "<table border=\"1\" class=\"dataframe\">\n",
       "  <thead>\n",
       "    <tr style=\"text-align: right;\">\n",
       "      <th></th>\n",
       "      <th>FROM</th>\n",
       "      <th>TO</th>\n",
       "      <th>TRANSIT TIME</th>\n",
       "      <th>AIRWAYS</th>\n",
       "      <th>Freight per kg</th>\n",
       "      <th>Operation Type</th>\n",
       "      <th>hours</th>\n",
       "      <th>hours1</th>\n",
       "      <th>minutes</th>\n",
       "      <th>total_time_in_minutes</th>\n",
       "    </tr>\n",
       "  </thead>\n",
       "  <tbody>\n",
       "    <tr>\n",
       "      <th>0</th>\n",
       "      <td>Chhatrapati Shivaji Maharaj International Airp...</td>\n",
       "      <td>Los Angeles International Airport (LAX)</td>\n",
       "      <td>98 hours 37 minutes</td>\n",
       "      <td>QATAR AIRWAYS</td>\n",
       "      <td>₹6,459</td>\n",
       "      <td>passenger</td>\n",
       "      <td>98</td>\n",
       "      <td>0</td>\n",
       "      <td>37</td>\n",
       "      <td>5917</td>\n",
       "    </tr>\n",
       "    <tr>\n",
       "      <th>1</th>\n",
       "      <td>Chhatrapati Shivaji Maharaj International Airp...</td>\n",
       "      <td>Los Angeles International Airport (LAX)</td>\n",
       "      <td>98 hours 37 minutes</td>\n",
       "      <td>EMIRATES</td>\n",
       "      <td>₹6,512</td>\n",
       "      <td>freighter</td>\n",
       "      <td>98</td>\n",
       "      <td>0</td>\n",
       "      <td>37</td>\n",
       "      <td>5917</td>\n",
       "    </tr>\n",
       "    <tr>\n",
       "      <th>2</th>\n",
       "      <td>Chhatrapati Shivaji Maharaj International Airp...</td>\n",
       "      <td>Chicago O'Hare International Airport (ORD)</td>\n",
       "      <td>98 hours 37 minutes</td>\n",
       "      <td>ETIHAD AIRWAYS</td>\n",
       "      <td>₹6,307</td>\n",
       "      <td>freighter</td>\n",
       "      <td>98</td>\n",
       "      <td>0</td>\n",
       "      <td>37</td>\n",
       "      <td>5917</td>\n",
       "    </tr>\n",
       "    <tr>\n",
       "      <th>3</th>\n",
       "      <td>Chhatrapati Shivaji Maharaj International Airp...</td>\n",
       "      <td>Chicago O'Hare International Airport (ORD)</td>\n",
       "      <td>98 hours 37 minutes</td>\n",
       "      <td>QATAR AIRWAYS</td>\n",
       "      <td>₹6,459</td>\n",
       "      <td>passenger</td>\n",
       "      <td>98</td>\n",
       "      <td>0</td>\n",
       "      <td>37</td>\n",
       "      <td>5917</td>\n",
       "    </tr>\n",
       "    <tr>\n",
       "      <th>4</th>\n",
       "      <td>Chhatrapati Shivaji Maharaj International Airp...</td>\n",
       "      <td>Chicago O'Hare International Airport (ORD)</td>\n",
       "      <td>98 hours 37 minutes</td>\n",
       "      <td>EMIRATES</td>\n",
       "      <td>₹6,511</td>\n",
       "      <td>freighter</td>\n",
       "      <td>98</td>\n",
       "      <td>0</td>\n",
       "      <td>37</td>\n",
       "      <td>5917</td>\n",
       "    </tr>\n",
       "  </tbody>\n",
       "</table>\n",
       "</div>"
      ],
      "text/plain": [
       "                                                FROM  \\\n",
       "0  Chhatrapati Shivaji Maharaj International Airp...   \n",
       "1  Chhatrapati Shivaji Maharaj International Airp...   \n",
       "2  Chhatrapati Shivaji Maharaj International Airp...   \n",
       "3  Chhatrapati Shivaji Maharaj International Airp...   \n",
       "4  Chhatrapati Shivaji Maharaj International Airp...   \n",
       "\n",
       "                                           TO         TRANSIT TIME  \\\n",
       "0     Los Angeles International Airport (LAX)  98 hours 37 minutes   \n",
       "1     Los Angeles International Airport (LAX)  98 hours 37 minutes   \n",
       "2  Chicago O'Hare International Airport (ORD)  98 hours 37 minutes   \n",
       "3  Chicago O'Hare International Airport (ORD)  98 hours 37 minutes   \n",
       "4  Chicago O'Hare International Airport (ORD)  98 hours 37 minutes   \n",
       "\n",
       "          AIRWAYS Freight per kg Operation Type  hours  hours1  minutes  \\\n",
       "0   QATAR AIRWAYS         ₹6,459      passenger     98       0       37   \n",
       "1        EMIRATES         ₹6,512      freighter     98       0       37   \n",
       "2  ETIHAD AIRWAYS         ₹6,307      freighter     98       0       37   \n",
       "3   QATAR AIRWAYS         ₹6,459      passenger     98       0       37   \n",
       "4        EMIRATES         ₹6,511      freighter     98       0       37   \n",
       "\n",
       "   total_time_in_minutes  \n",
       "0                   5917  \n",
       "1                   5917  \n",
       "2                   5917  \n",
       "3                   5917  \n",
       "4                   5917  "
      ]
     },
     "execution_count": 10,
     "metadata": {},
     "output_type": "execute_result"
    }
   ],
   "source": [
    "df1.head()"
   ]
  },
  {
   "cell_type": "code",
   "execution_count": 11,
   "id": "981fe190",
   "metadata": {
    "execution": {
     "iopub.execute_input": "2023-05-04T14:49:50.830273Z",
     "iopub.status.busy": "2023-05-04T14:49:50.829473Z",
     "iopub.status.idle": "2023-05-04T14:49:50.840489Z",
     "shell.execute_reply": "2023-05-04T14:49:50.839457Z"
    },
    "papermill": {
     "duration": 0.021748,
     "end_time": "2023-05-04T14:49:50.842937",
     "exception": false,
     "start_time": "2023-05-04T14:49:50.821189",
     "status": "completed"
    },
    "tags": []
   },
   "outputs": [],
   "source": [
    "# make dummy variables of the categorical columns.\n",
    "from_dummies = pd.get_dummies(df1['FROM'], prefix='from')\n",
    "to_dummies = pd.get_dummies(df1['TO'], prefix='to')\n",
    "airways_dummies = pd.get_dummies(df1['AIRWAYS'], prefix='airways')\n",
    "operation_dummies = pd.get_dummies(df1['Operation Type'], prefix='type')\n",
    "\n",
    "# concatenate the original dataframe with the dummy variables\n",
    "df_with_dummies = pd.concat([df1, from_dummies, to_dummies, airways_dummies, operation_dummies], axis=1)"
   ]
  },
  {
   "cell_type": "code",
   "execution_count": 12,
   "id": "2bce6c9c",
   "metadata": {
    "execution": {
     "iopub.execute_input": "2023-05-04T14:49:50.859699Z",
     "iopub.status.busy": "2023-05-04T14:49:50.858736Z",
     "iopub.status.idle": "2023-05-04T14:49:50.863396Z",
     "shell.execute_reply": "2023-05-04T14:49:50.862490Z"
    },
    "papermill": {
     "duration": 0.015465,
     "end_time": "2023-05-04T14:49:50.865583",
     "exception": false,
     "start_time": "2023-05-04T14:49:50.850118",
     "status": "completed"
    },
    "tags": []
   },
   "outputs": [],
   "source": [
    "df2 = df_with_dummies"
   ]
  },
  {
   "cell_type": "code",
   "execution_count": 13,
   "id": "b9dedc3d",
   "metadata": {
    "execution": {
     "iopub.execute_input": "2023-05-04T14:49:50.882236Z",
     "iopub.status.busy": "2023-05-04T14:49:50.881466Z",
     "iopub.status.idle": "2023-05-04T14:49:50.902665Z",
     "shell.execute_reply": "2023-05-04T14:49:50.901609Z"
    },
    "papermill": {
     "duration": 0.032039,
     "end_time": "2023-05-04T14:49:50.905205",
     "exception": false,
     "start_time": "2023-05-04T14:49:50.873166",
     "status": "completed"
    },
    "tags": []
   },
   "outputs": [
    {
     "data": {
      "text/html": [
       "<div>\n",
       "<style scoped>\n",
       "    .dataframe tbody tr th:only-of-type {\n",
       "        vertical-align: middle;\n",
       "    }\n",
       "\n",
       "    .dataframe tbody tr th {\n",
       "        vertical-align: top;\n",
       "    }\n",
       "\n",
       "    .dataframe thead th {\n",
       "        text-align: right;\n",
       "    }\n",
       "</style>\n",
       "<table border=\"1\" class=\"dataframe\">\n",
       "  <thead>\n",
       "    <tr style=\"text-align: right;\">\n",
       "      <th></th>\n",
       "      <th>FROM</th>\n",
       "      <th>TO</th>\n",
       "      <th>TRANSIT TIME</th>\n",
       "      <th>AIRWAYS</th>\n",
       "      <th>Freight per kg</th>\n",
       "      <th>Operation Type</th>\n",
       "      <th>hours</th>\n",
       "      <th>hours1</th>\n",
       "      <th>minutes</th>\n",
       "      <th>total_time_in_minutes</th>\n",
       "      <th>...</th>\n",
       "      <th>airways_ETIHAD AIRWAYS</th>\n",
       "      <th>airways_KLM</th>\n",
       "      <th>airways_LUFTHANSA</th>\n",
       "      <th>airways_QATAR AIRWAYS</th>\n",
       "      <th>airways_SINGAPORE AIRLINES</th>\n",
       "      <th>airways_TURKISH AIRLINES</th>\n",
       "      <th>airways_UNITED AIRLINES</th>\n",
       "      <th>airways_VIRGIN ATLANTIC</th>\n",
       "      <th>type_freighter</th>\n",
       "      <th>type_passenger</th>\n",
       "    </tr>\n",
       "  </thead>\n",
       "  <tbody>\n",
       "    <tr>\n",
       "      <th>0</th>\n",
       "      <td>Chhatrapati Shivaji Maharaj International Airp...</td>\n",
       "      <td>Los Angeles International Airport (LAX)</td>\n",
       "      <td>98 hours 37 minutes</td>\n",
       "      <td>QATAR AIRWAYS</td>\n",
       "      <td>₹6,459</td>\n",
       "      <td>passenger</td>\n",
       "      <td>98</td>\n",
       "      <td>0</td>\n",
       "      <td>37</td>\n",
       "      <td>5917</td>\n",
       "      <td>...</td>\n",
       "      <td>0</td>\n",
       "      <td>0</td>\n",
       "      <td>0</td>\n",
       "      <td>1</td>\n",
       "      <td>0</td>\n",
       "      <td>0</td>\n",
       "      <td>0</td>\n",
       "      <td>0</td>\n",
       "      <td>0</td>\n",
       "      <td>1</td>\n",
       "    </tr>\n",
       "    <tr>\n",
       "      <th>1</th>\n",
       "      <td>Chhatrapati Shivaji Maharaj International Airp...</td>\n",
       "      <td>Los Angeles International Airport (LAX)</td>\n",
       "      <td>98 hours 37 minutes</td>\n",
       "      <td>EMIRATES</td>\n",
       "      <td>₹6,512</td>\n",
       "      <td>freighter</td>\n",
       "      <td>98</td>\n",
       "      <td>0</td>\n",
       "      <td>37</td>\n",
       "      <td>5917</td>\n",
       "      <td>...</td>\n",
       "      <td>0</td>\n",
       "      <td>0</td>\n",
       "      <td>0</td>\n",
       "      <td>0</td>\n",
       "      <td>0</td>\n",
       "      <td>0</td>\n",
       "      <td>0</td>\n",
       "      <td>0</td>\n",
       "      <td>1</td>\n",
       "      <td>0</td>\n",
       "    </tr>\n",
       "    <tr>\n",
       "      <th>2</th>\n",
       "      <td>Chhatrapati Shivaji Maharaj International Airp...</td>\n",
       "      <td>Chicago O'Hare International Airport (ORD)</td>\n",
       "      <td>98 hours 37 minutes</td>\n",
       "      <td>ETIHAD AIRWAYS</td>\n",
       "      <td>₹6,307</td>\n",
       "      <td>freighter</td>\n",
       "      <td>98</td>\n",
       "      <td>0</td>\n",
       "      <td>37</td>\n",
       "      <td>5917</td>\n",
       "      <td>...</td>\n",
       "      <td>1</td>\n",
       "      <td>0</td>\n",
       "      <td>0</td>\n",
       "      <td>0</td>\n",
       "      <td>0</td>\n",
       "      <td>0</td>\n",
       "      <td>0</td>\n",
       "      <td>0</td>\n",
       "      <td>1</td>\n",
       "      <td>0</td>\n",
       "    </tr>\n",
       "    <tr>\n",
       "      <th>3</th>\n",
       "      <td>Chhatrapati Shivaji Maharaj International Airp...</td>\n",
       "      <td>Chicago O'Hare International Airport (ORD)</td>\n",
       "      <td>98 hours 37 minutes</td>\n",
       "      <td>QATAR AIRWAYS</td>\n",
       "      <td>₹6,459</td>\n",
       "      <td>passenger</td>\n",
       "      <td>98</td>\n",
       "      <td>0</td>\n",
       "      <td>37</td>\n",
       "      <td>5917</td>\n",
       "      <td>...</td>\n",
       "      <td>0</td>\n",
       "      <td>0</td>\n",
       "      <td>0</td>\n",
       "      <td>1</td>\n",
       "      <td>0</td>\n",
       "      <td>0</td>\n",
       "      <td>0</td>\n",
       "      <td>0</td>\n",
       "      <td>0</td>\n",
       "      <td>1</td>\n",
       "    </tr>\n",
       "    <tr>\n",
       "      <th>4</th>\n",
       "      <td>Chhatrapati Shivaji Maharaj International Airp...</td>\n",
       "      <td>Chicago O'Hare International Airport (ORD)</td>\n",
       "      <td>98 hours 37 minutes</td>\n",
       "      <td>EMIRATES</td>\n",
       "      <td>₹6,511</td>\n",
       "      <td>freighter</td>\n",
       "      <td>98</td>\n",
       "      <td>0</td>\n",
       "      <td>37</td>\n",
       "      <td>5917</td>\n",
       "      <td>...</td>\n",
       "      <td>0</td>\n",
       "      <td>0</td>\n",
       "      <td>0</td>\n",
       "      <td>0</td>\n",
       "      <td>0</td>\n",
       "      <td>0</td>\n",
       "      <td>0</td>\n",
       "      <td>0</td>\n",
       "      <td>1</td>\n",
       "      <td>0</td>\n",
       "    </tr>\n",
       "  </tbody>\n",
       "</table>\n",
       "<p>5 rows × 38 columns</p>\n",
       "</div>"
      ],
      "text/plain": [
       "                                                FROM  \\\n",
       "0  Chhatrapati Shivaji Maharaj International Airp...   \n",
       "1  Chhatrapati Shivaji Maharaj International Airp...   \n",
       "2  Chhatrapati Shivaji Maharaj International Airp...   \n",
       "3  Chhatrapati Shivaji Maharaj International Airp...   \n",
       "4  Chhatrapati Shivaji Maharaj International Airp...   \n",
       "\n",
       "                                           TO         TRANSIT TIME  \\\n",
       "0     Los Angeles International Airport (LAX)  98 hours 37 minutes   \n",
       "1     Los Angeles International Airport (LAX)  98 hours 37 minutes   \n",
       "2  Chicago O'Hare International Airport (ORD)  98 hours 37 minutes   \n",
       "3  Chicago O'Hare International Airport (ORD)  98 hours 37 minutes   \n",
       "4  Chicago O'Hare International Airport (ORD)  98 hours 37 minutes   \n",
       "\n",
       "          AIRWAYS Freight per kg Operation Type  hours  hours1  minutes  \\\n",
       "0   QATAR AIRWAYS         ₹6,459      passenger     98       0       37   \n",
       "1        EMIRATES         ₹6,512      freighter     98       0       37   \n",
       "2  ETIHAD AIRWAYS         ₹6,307      freighter     98       0       37   \n",
       "3   QATAR AIRWAYS         ₹6,459      passenger     98       0       37   \n",
       "4        EMIRATES         ₹6,511      freighter     98       0       37   \n",
       "\n",
       "   total_time_in_minutes  ...  airways_ETIHAD AIRWAYS  airways_KLM  \\\n",
       "0                   5917  ...                       0            0   \n",
       "1                   5917  ...                       0            0   \n",
       "2                   5917  ...                       1            0   \n",
       "3                   5917  ...                       0            0   \n",
       "4                   5917  ...                       0            0   \n",
       "\n",
       "   airways_LUFTHANSA  airways_QATAR AIRWAYS  airways_SINGAPORE AIRLINES  \\\n",
       "0                  0                      1                           0   \n",
       "1                  0                      0                           0   \n",
       "2                  0                      0                           0   \n",
       "3                  0                      1                           0   \n",
       "4                  0                      0                           0   \n",
       "\n",
       "   airways_TURKISH AIRLINES  airways_UNITED AIRLINES  airways_VIRGIN ATLANTIC  \\\n",
       "0                         0                        0                        0   \n",
       "1                         0                        0                        0   \n",
       "2                         0                        0                        0   \n",
       "3                         0                        0                        0   \n",
       "4                         0                        0                        0   \n",
       "\n",
       "   type_freighter  type_passenger  \n",
       "0               0               1  \n",
       "1               1               0  \n",
       "2               1               0  \n",
       "3               0               1  \n",
       "4               1               0  \n",
       "\n",
       "[5 rows x 38 columns]"
      ]
     },
     "execution_count": 13,
     "metadata": {},
     "output_type": "execute_result"
    }
   ],
   "source": [
    "df2.head()"
   ]
  },
  {
   "cell_type": "code",
   "execution_count": 14,
   "id": "cac5ff84",
   "metadata": {
    "execution": {
     "iopub.execute_input": "2023-05-04T14:49:50.921905Z",
     "iopub.status.busy": "2023-05-04T14:49:50.921492Z",
     "iopub.status.idle": "2023-05-04T14:49:50.927627Z",
     "shell.execute_reply": "2023-05-04T14:49:50.926548Z"
    },
    "papermill": {
     "duration": 0.017391,
     "end_time": "2023-05-04T14:49:50.929980",
     "exception": false,
     "start_time": "2023-05-04T14:49:50.912589",
     "status": "completed"
    },
    "tags": []
   },
   "outputs": [],
   "source": [
    "# drop the original columns that were used to create the dummy variables\n",
    "df2.drop(['FROM', 'TO', 'AIRWAYS', 'TRANSIT TIME', 'Operation Type', 'hours', 'hours1', 'minutes'], axis=1, inplace=True)"
   ]
  },
  {
   "cell_type": "code",
   "execution_count": 15,
   "id": "c8d21cb4",
   "metadata": {
    "execution": {
     "iopub.execute_input": "2023-05-04T14:49:50.947609Z",
     "iopub.status.busy": "2023-05-04T14:49:50.946838Z",
     "iopub.status.idle": "2023-05-04T14:49:50.964736Z",
     "shell.execute_reply": "2023-05-04T14:49:50.963712Z"
    },
    "papermill": {
     "duration": 0.028887,
     "end_time": "2023-05-04T14:49:50.966977",
     "exception": false,
     "start_time": "2023-05-04T14:49:50.938090",
     "status": "completed"
    },
    "tags": []
   },
   "outputs": [
    {
     "data": {
      "text/html": [
       "<div>\n",
       "<style scoped>\n",
       "    .dataframe tbody tr th:only-of-type {\n",
       "        vertical-align: middle;\n",
       "    }\n",
       "\n",
       "    .dataframe tbody tr th {\n",
       "        vertical-align: top;\n",
       "    }\n",
       "\n",
       "    .dataframe thead th {\n",
       "        text-align: right;\n",
       "    }\n",
       "</style>\n",
       "<table border=\"1\" class=\"dataframe\">\n",
       "  <thead>\n",
       "    <tr style=\"text-align: right;\">\n",
       "      <th></th>\n",
       "      <th>Freight per kg</th>\n",
       "      <th>total_time_in_minutes</th>\n",
       "      <th>from_Chennai International Airport (MAA)</th>\n",
       "      <th>from_Chhatrapati Shivaji Maharaj International Airport (BOM)</th>\n",
       "      <th>from_Cochin International Airport (COK)</th>\n",
       "      <th>from_Indira Gandhi International Airport (DEL)</th>\n",
       "      <th>from_Kempegowda International Airport Bengaluru (BLR)</th>\n",
       "      <th>to_Atlanta Hartsfield-Jackson International Airport</th>\n",
       "      <th>to_Atlanta Hartsfield-Jackson International Airport (ATL)</th>\n",
       "      <th>to_Chicago O'Hare International Airport</th>\n",
       "      <th>...</th>\n",
       "      <th>airways_ETIHAD AIRWAYS</th>\n",
       "      <th>airways_KLM</th>\n",
       "      <th>airways_LUFTHANSA</th>\n",
       "      <th>airways_QATAR AIRWAYS</th>\n",
       "      <th>airways_SINGAPORE AIRLINES</th>\n",
       "      <th>airways_TURKISH AIRLINES</th>\n",
       "      <th>airways_UNITED AIRLINES</th>\n",
       "      <th>airways_VIRGIN ATLANTIC</th>\n",
       "      <th>type_freighter</th>\n",
       "      <th>type_passenger</th>\n",
       "    </tr>\n",
       "  </thead>\n",
       "  <tbody>\n",
       "    <tr>\n",
       "      <th>0</th>\n",
       "      <td>₹6,459</td>\n",
       "      <td>5917</td>\n",
       "      <td>0</td>\n",
       "      <td>1</td>\n",
       "      <td>0</td>\n",
       "      <td>0</td>\n",
       "      <td>0</td>\n",
       "      <td>0</td>\n",
       "      <td>0</td>\n",
       "      <td>0</td>\n",
       "      <td>...</td>\n",
       "      <td>0</td>\n",
       "      <td>0</td>\n",
       "      <td>0</td>\n",
       "      <td>1</td>\n",
       "      <td>0</td>\n",
       "      <td>0</td>\n",
       "      <td>0</td>\n",
       "      <td>0</td>\n",
       "      <td>0</td>\n",
       "      <td>1</td>\n",
       "    </tr>\n",
       "    <tr>\n",
       "      <th>1</th>\n",
       "      <td>₹6,512</td>\n",
       "      <td>5917</td>\n",
       "      <td>0</td>\n",
       "      <td>1</td>\n",
       "      <td>0</td>\n",
       "      <td>0</td>\n",
       "      <td>0</td>\n",
       "      <td>0</td>\n",
       "      <td>0</td>\n",
       "      <td>0</td>\n",
       "      <td>...</td>\n",
       "      <td>0</td>\n",
       "      <td>0</td>\n",
       "      <td>0</td>\n",
       "      <td>0</td>\n",
       "      <td>0</td>\n",
       "      <td>0</td>\n",
       "      <td>0</td>\n",
       "      <td>0</td>\n",
       "      <td>1</td>\n",
       "      <td>0</td>\n",
       "    </tr>\n",
       "    <tr>\n",
       "      <th>2</th>\n",
       "      <td>₹6,307</td>\n",
       "      <td>5917</td>\n",
       "      <td>0</td>\n",
       "      <td>1</td>\n",
       "      <td>0</td>\n",
       "      <td>0</td>\n",
       "      <td>0</td>\n",
       "      <td>0</td>\n",
       "      <td>0</td>\n",
       "      <td>0</td>\n",
       "      <td>...</td>\n",
       "      <td>1</td>\n",
       "      <td>0</td>\n",
       "      <td>0</td>\n",
       "      <td>0</td>\n",
       "      <td>0</td>\n",
       "      <td>0</td>\n",
       "      <td>0</td>\n",
       "      <td>0</td>\n",
       "      <td>1</td>\n",
       "      <td>0</td>\n",
       "    </tr>\n",
       "    <tr>\n",
       "      <th>3</th>\n",
       "      <td>₹6,459</td>\n",
       "      <td>5917</td>\n",
       "      <td>0</td>\n",
       "      <td>1</td>\n",
       "      <td>0</td>\n",
       "      <td>0</td>\n",
       "      <td>0</td>\n",
       "      <td>0</td>\n",
       "      <td>0</td>\n",
       "      <td>0</td>\n",
       "      <td>...</td>\n",
       "      <td>0</td>\n",
       "      <td>0</td>\n",
       "      <td>0</td>\n",
       "      <td>1</td>\n",
       "      <td>0</td>\n",
       "      <td>0</td>\n",
       "      <td>0</td>\n",
       "      <td>0</td>\n",
       "      <td>0</td>\n",
       "      <td>1</td>\n",
       "    </tr>\n",
       "    <tr>\n",
       "      <th>4</th>\n",
       "      <td>₹6,511</td>\n",
       "      <td>5917</td>\n",
       "      <td>0</td>\n",
       "      <td>1</td>\n",
       "      <td>0</td>\n",
       "      <td>0</td>\n",
       "      <td>0</td>\n",
       "      <td>0</td>\n",
       "      <td>0</td>\n",
       "      <td>0</td>\n",
       "      <td>...</td>\n",
       "      <td>0</td>\n",
       "      <td>0</td>\n",
       "      <td>0</td>\n",
       "      <td>0</td>\n",
       "      <td>0</td>\n",
       "      <td>0</td>\n",
       "      <td>0</td>\n",
       "      <td>0</td>\n",
       "      <td>1</td>\n",
       "      <td>0</td>\n",
       "    </tr>\n",
       "  </tbody>\n",
       "</table>\n",
       "<p>5 rows × 30 columns</p>\n",
       "</div>"
      ],
      "text/plain": [
       "  Freight per kg  total_time_in_minutes  \\\n",
       "0         ₹6,459                   5917   \n",
       "1         ₹6,512                   5917   \n",
       "2         ₹6,307                   5917   \n",
       "3         ₹6,459                   5917   \n",
       "4         ₹6,511                   5917   \n",
       "\n",
       "   from_Chennai International Airport (MAA)  \\\n",
       "0                                         0   \n",
       "1                                         0   \n",
       "2                                         0   \n",
       "3                                         0   \n",
       "4                                         0   \n",
       "\n",
       "   from_Chhatrapati Shivaji Maharaj International Airport (BOM)  \\\n",
       "0                                                  1              \n",
       "1                                                  1              \n",
       "2                                                  1              \n",
       "3                                                  1              \n",
       "4                                                  1              \n",
       "\n",
       "   from_Cochin International Airport (COK)  \\\n",
       "0                                        0   \n",
       "1                                        0   \n",
       "2                                        0   \n",
       "3                                        0   \n",
       "4                                        0   \n",
       "\n",
       "   from_Indira Gandhi International Airport (DEL)  \\\n",
       "0                                               0   \n",
       "1                                               0   \n",
       "2                                               0   \n",
       "3                                               0   \n",
       "4                                               0   \n",
       "\n",
       "   from_Kempegowda International Airport Bengaluru (BLR)  \\\n",
       "0                                                  0       \n",
       "1                                                  0       \n",
       "2                                                  0       \n",
       "3                                                  0       \n",
       "4                                                  0       \n",
       "\n",
       "   to_Atlanta Hartsfield-Jackson International Airport  \\\n",
       "0                                                  0     \n",
       "1                                                  0     \n",
       "2                                                  0     \n",
       "3                                                  0     \n",
       "4                                                  0     \n",
       "\n",
       "   to_Atlanta Hartsfield-Jackson International Airport (ATL)  \\\n",
       "0                                                  0           \n",
       "1                                                  0           \n",
       "2                                                  0           \n",
       "3                                                  0           \n",
       "4                                                  0           \n",
       "\n",
       "   to_Chicago O'Hare International Airport  ...  airways_ETIHAD AIRWAYS  \\\n",
       "0                                        0  ...                       0   \n",
       "1                                        0  ...                       0   \n",
       "2                                        0  ...                       1   \n",
       "3                                        0  ...                       0   \n",
       "4                                        0  ...                       0   \n",
       "\n",
       "   airways_KLM  airways_LUFTHANSA  airways_QATAR AIRWAYS  \\\n",
       "0            0                  0                      1   \n",
       "1            0                  0                      0   \n",
       "2            0                  0                      0   \n",
       "3            0                  0                      1   \n",
       "4            0                  0                      0   \n",
       "\n",
       "   airways_SINGAPORE AIRLINES  airways_TURKISH AIRLINES  \\\n",
       "0                           0                         0   \n",
       "1                           0                         0   \n",
       "2                           0                         0   \n",
       "3                           0                         0   \n",
       "4                           0                         0   \n",
       "\n",
       "   airways_UNITED AIRLINES  airways_VIRGIN ATLANTIC  type_freighter  \\\n",
       "0                        0                        0               0   \n",
       "1                        0                        0               1   \n",
       "2                        0                        0               1   \n",
       "3                        0                        0               0   \n",
       "4                        0                        0               1   \n",
       "\n",
       "   type_passenger  \n",
       "0               1  \n",
       "1               0  \n",
       "2               0  \n",
       "3               1  \n",
       "4               0  \n",
       "\n",
       "[5 rows x 30 columns]"
      ]
     },
     "execution_count": 15,
     "metadata": {},
     "output_type": "execute_result"
    }
   ],
   "source": [
    "df2.head()"
   ]
  },
  {
   "cell_type": "code",
   "execution_count": 16,
   "id": "7ff4a597",
   "metadata": {
    "execution": {
     "iopub.execute_input": "2023-05-04T14:49:50.984790Z",
     "iopub.status.busy": "2023-05-04T14:49:50.984043Z",
     "iopub.status.idle": "2023-05-04T14:49:50.993948Z",
     "shell.execute_reply": "2023-05-04T14:49:50.992622Z"
    },
    "papermill": {
     "duration": 0.021831,
     "end_time": "2023-05-04T14:49:50.996473",
     "exception": false,
     "start_time": "2023-05-04T14:49:50.974642",
     "status": "completed"
    },
    "tags": []
   },
   "outputs": [
    {
     "name": "stdout",
     "output_type": "stream",
     "text": [
      "Freight per kg                                                  0\n",
      "total_time_in_minutes                                           0\n",
      "from_Chennai International Airport (MAA)                        0\n",
      "from_Chhatrapati Shivaji Maharaj International Airport (BOM)    0\n",
      "from_Cochin International Airport (COK)                         0\n",
      "from_Indira Gandhi International Airport (DEL)                  0\n",
      "from_Kempegowda International Airport Bengaluru (BLR)           0\n",
      "to_Atlanta Hartsfield-Jackson International Airport             0\n",
      "to_Atlanta Hartsfield-Jackson International Airport (ATL)       0\n",
      "to_Chicago O'Hare International Airport                         0\n",
      "to_Chicago O'Hare International Airport (ORD)                   0\n",
      "to_Dallas/Fort Worth International Airport                      0\n",
      "to_Dallas/Fort Worth International Airport (DFW)                0\n",
      "to_John F. Kennedy International Airport                        0\n",
      "to_John F. Kennedy International Airport (JFK)                  0\n",
      "to_Los Angeles International Airport (LAX)                      0\n",
      "airways_AIR CANADA                                              0\n",
      "airways_AIR INDIA                                               0\n",
      "airways_BRITISH AIRWAYS                                         0\n",
      "airways_EMIRATES                                                0\n",
      "airways_ETIHAD AIRWAYS                                          0\n",
      "airways_KLM                                                     0\n",
      "airways_LUFTHANSA                                               0\n",
      "airways_QATAR AIRWAYS                                           0\n",
      "airways_SINGAPORE AIRLINES                                      0\n",
      "airways_TURKISH AIRLINES                                        0\n",
      "airways_UNITED AIRLINES                                         0\n",
      "airways_VIRGIN ATLANTIC                                         0\n",
      "type_freighter                                                  0\n",
      "type_passenger                                                  0\n",
      "dtype: int64\n"
     ]
    }
   ],
   "source": [
    "# Check for NaN values\n",
    "print(df2.isna().sum())"
   ]
  },
  {
   "cell_type": "code",
   "execution_count": 17,
   "id": "e12a870c",
   "metadata": {
    "execution": {
     "iopub.execute_input": "2023-05-04T14:49:51.014001Z",
     "iopub.status.busy": "2023-05-04T14:49:51.013612Z",
     "iopub.status.idle": "2023-05-04T14:49:51.020292Z",
     "shell.execute_reply": "2023-05-04T14:49:51.019076Z"
    },
    "papermill": {
     "duration": 0.017864,
     "end_time": "2023-05-04T14:49:51.022379",
     "exception": false,
     "start_time": "2023-05-04T14:49:51.004515",
     "status": "completed"
    },
    "tags": []
   },
   "outputs": [],
   "source": [
    "df2['Freight per kg'] = df2['Freight per kg'].str.replace('₹', '').str.replace(',', '').astype(float)"
   ]
  },
  {
   "cell_type": "code",
   "execution_count": 18,
   "id": "cc3c5ceb",
   "metadata": {
    "execution": {
     "iopub.execute_input": "2023-05-04T14:49:51.040660Z",
     "iopub.status.busy": "2023-05-04T14:49:51.040048Z",
     "iopub.status.idle": "2023-05-04T14:49:51.048791Z",
     "shell.execute_reply": "2023-05-04T14:49:51.047464Z"
    },
    "papermill": {
     "duration": 0.020787,
     "end_time": "2023-05-04T14:49:51.051146",
     "exception": false,
     "start_time": "2023-05-04T14:49:51.030359",
     "status": "completed"
    },
    "tags": []
   },
   "outputs": [
    {
     "data": {
      "text/plain": [
       "0     6459.0\n",
       "1     6512.0\n",
       "2     6307.0\n",
       "3     6459.0\n",
       "4     6511.0\n",
       "       ...  \n",
       "74    3802.0\n",
       "75    3802.0\n",
       "76    3802.0\n",
       "77    3802.0\n",
       "78    3802.0\n",
       "Name: Freight per kg, Length: 79, dtype: float64"
      ]
     },
     "execution_count": 18,
     "metadata": {},
     "output_type": "execute_result"
    }
   ],
   "source": [
    "df2['Freight per kg']"
   ]
  },
  {
   "cell_type": "code",
   "execution_count": 19,
   "id": "e71a7785",
   "metadata": {
    "execution": {
     "iopub.execute_input": "2023-05-04T14:49:51.069092Z",
     "iopub.status.busy": "2023-05-04T14:49:51.068477Z",
     "iopub.status.idle": "2023-05-04T14:49:51.073044Z",
     "shell.execute_reply": "2023-05-04T14:49:51.071928Z"
    },
    "papermill": {
     "duration": 0.015847,
     "end_time": "2023-05-04T14:49:51.075079",
     "exception": false,
     "start_time": "2023-05-04T14:49:51.059232",
     "status": "completed"
    },
    "tags": []
   },
   "outputs": [],
   "source": [
    "X = df2\n",
    "y = df2['Freight per kg']"
   ]
  },
  {
   "cell_type": "code",
   "execution_count": 20,
   "id": "ceada083",
   "metadata": {
    "execution": {
     "iopub.execute_input": "2023-05-04T14:49:51.093129Z",
     "iopub.status.busy": "2023-05-04T14:49:51.092754Z",
     "iopub.status.idle": "2023-05-04T14:49:51.131991Z",
     "shell.execute_reply": "2023-05-04T14:49:51.130591Z"
    },
    "papermill": {
     "duration": 0.05154,
     "end_time": "2023-05-04T14:49:51.134683",
     "exception": false,
     "start_time": "2023-05-04T14:49:51.083143",
     "status": "completed"
    },
    "tags": []
   },
   "outputs": [
    {
     "data": {
      "text/html": [
       "<style>#sk-container-id-1 {color: black;background-color: white;}#sk-container-id-1 pre{padding: 0;}#sk-container-id-1 div.sk-toggleable {background-color: white;}#sk-container-id-1 label.sk-toggleable__label {cursor: pointer;display: block;width: 100%;margin-bottom: 0;padding: 0.3em;box-sizing: border-box;text-align: center;}#sk-container-id-1 label.sk-toggleable__label-arrow:before {content: \"▸\";float: left;margin-right: 0.25em;color: #696969;}#sk-container-id-1 label.sk-toggleable__label-arrow:hover:before {color: black;}#sk-container-id-1 div.sk-estimator:hover label.sk-toggleable__label-arrow:before {color: black;}#sk-container-id-1 div.sk-toggleable__content {max-height: 0;max-width: 0;overflow: hidden;text-align: left;background-color: #f0f8ff;}#sk-container-id-1 div.sk-toggleable__content pre {margin: 0.2em;color: black;border-radius: 0.25em;background-color: #f0f8ff;}#sk-container-id-1 input.sk-toggleable__control:checked~div.sk-toggleable__content {max-height: 200px;max-width: 100%;overflow: auto;}#sk-container-id-1 input.sk-toggleable__control:checked~label.sk-toggleable__label-arrow:before {content: \"▾\";}#sk-container-id-1 div.sk-estimator input.sk-toggleable__control:checked~label.sk-toggleable__label {background-color: #d4ebff;}#sk-container-id-1 div.sk-label input.sk-toggleable__control:checked~label.sk-toggleable__label {background-color: #d4ebff;}#sk-container-id-1 input.sk-hidden--visually {border: 0;clip: rect(1px 1px 1px 1px);clip: rect(1px, 1px, 1px, 1px);height: 1px;margin: -1px;overflow: hidden;padding: 0;position: absolute;width: 1px;}#sk-container-id-1 div.sk-estimator {font-family: monospace;background-color: #f0f8ff;border: 1px dotted black;border-radius: 0.25em;box-sizing: border-box;margin-bottom: 0.5em;}#sk-container-id-1 div.sk-estimator:hover {background-color: #d4ebff;}#sk-container-id-1 div.sk-parallel-item::after {content: \"\";width: 100%;border-bottom: 1px solid gray;flex-grow: 1;}#sk-container-id-1 div.sk-label:hover label.sk-toggleable__label {background-color: #d4ebff;}#sk-container-id-1 div.sk-serial::before {content: \"\";position: absolute;border-left: 1px solid gray;box-sizing: border-box;top: 0;bottom: 0;left: 50%;z-index: 0;}#sk-container-id-1 div.sk-serial {display: flex;flex-direction: column;align-items: center;background-color: white;padding-right: 0.2em;padding-left: 0.2em;position: relative;}#sk-container-id-1 div.sk-item {position: relative;z-index: 1;}#sk-container-id-1 div.sk-parallel {display: flex;align-items: stretch;justify-content: center;background-color: white;position: relative;}#sk-container-id-1 div.sk-item::before, #sk-container-id-1 div.sk-parallel-item::before {content: \"\";position: absolute;border-left: 1px solid gray;box-sizing: border-box;top: 0;bottom: 0;left: 50%;z-index: -1;}#sk-container-id-1 div.sk-parallel-item {display: flex;flex-direction: column;z-index: 1;position: relative;background-color: white;}#sk-container-id-1 div.sk-parallel-item:first-child::after {align-self: flex-end;width: 50%;}#sk-container-id-1 div.sk-parallel-item:last-child::after {align-self: flex-start;width: 50%;}#sk-container-id-1 div.sk-parallel-item:only-child::after {width: 0;}#sk-container-id-1 div.sk-dashed-wrapped {border: 1px dashed gray;margin: 0 0.4em 0.5em 0.4em;box-sizing: border-box;padding-bottom: 0.4em;background-color: white;}#sk-container-id-1 div.sk-label label {font-family: monospace;font-weight: bold;display: inline-block;line-height: 1.2em;}#sk-container-id-1 div.sk-label-container {text-align: center;}#sk-container-id-1 div.sk-container {/* jupyter's `normalize.less` sets `[hidden] { display: none; }` but bootstrap.min.css set `[hidden] { display: none !important; }` so we also need the `!important` here to be able to override the default hidden behavior on the sphinx rendered scikit-learn.org. See: https://github.com/scikit-learn/scikit-learn/issues/21755 */display: inline-block !important;position: relative;}#sk-container-id-1 div.sk-text-repr-fallback {display: none;}</style><div id=\"sk-container-id-1\" class=\"sk-top-container\"><div class=\"sk-text-repr-fallback\"><pre>LinearRegression()</pre><b>In a Jupyter environment, please rerun this cell to show the HTML representation or trust the notebook. <br />On GitHub, the HTML representation is unable to render, please try loading this page with nbviewer.org.</b></div><div class=\"sk-container\" hidden><div class=\"sk-item\"><div class=\"sk-estimator sk-toggleable\"><input class=\"sk-toggleable__control sk-hidden--visually\" id=\"sk-estimator-id-1\" type=\"checkbox\" checked><label for=\"sk-estimator-id-1\" class=\"sk-toggleable__label sk-toggleable__label-arrow\">LinearRegression</label><div class=\"sk-toggleable__content\"><pre>LinearRegression()</pre></div></div></div></div></div>"
      ],
      "text/plain": [
       "LinearRegression()"
      ]
     },
     "execution_count": 20,
     "metadata": {},
     "output_type": "execute_result"
    }
   ],
   "source": [
    "from sklearn.model_selection import train_test_split\n",
    "from sklearn.linear_model import LinearRegression\n",
    "\n",
    "\n",
    "# Split the encoded data into training and testing sets\n",
    "X_train, X_test, y_train, y_test = train_test_split(X, y, test_size=0.2, random_state=42)\n",
    "\n",
    "# a linear regression model\n",
    "model = LinearRegression()\n",
    "\n",
    "# Train the model on the training set\n",
    "model.fit(X_train, y_train)"
   ]
  },
  {
   "cell_type": "code",
   "execution_count": 21,
   "id": "ee583fa5",
   "metadata": {
    "execution": {
     "iopub.execute_input": "2023-05-04T14:49:51.154173Z",
     "iopub.status.busy": "2023-05-04T14:49:51.153301Z",
     "iopub.status.idle": "2023-05-04T14:49:51.161832Z",
     "shell.execute_reply": "2023-05-04T14:49:51.160575Z"
    },
    "papermill": {
     "duration": 0.021058,
     "end_time": "2023-05-04T14:49:51.164657",
     "exception": false,
     "start_time": "2023-05-04T14:49:51.143599",
     "status": "completed"
    },
    "tags": []
   },
   "outputs": [
    {
     "name": "stdout",
     "output_type": "stream",
     "text": [
      "Model R^2 score: 1.0\n"
     ]
    }
   ],
   "source": [
    "# Evaluate the model on the testing set\n",
    "score = model.score(X_test, y_test)\n",
    "print(\"Model R^2 score:\", score)"
   ]
  },
  {
   "cell_type": "code",
   "execution_count": 22,
   "id": "b6c301a4",
   "metadata": {
    "execution": {
     "iopub.execute_input": "2023-05-04T14:49:51.182785Z",
     "iopub.status.busy": "2023-05-04T14:49:51.182422Z",
     "iopub.status.idle": "2023-05-04T14:49:51.191496Z",
     "shell.execute_reply": "2023-05-04T14:49:51.190306Z"
    },
    "papermill": {
     "duration": 0.020858,
     "end_time": "2023-05-04T14:49:51.193808",
     "exception": false,
     "start_time": "2023-05-04T14:49:51.172950",
     "status": "completed"
    },
    "tags": []
   },
   "outputs": [
    {
     "name": "stdout",
     "output_type": "stream",
     "text": [
      "Root Mean Squared Error:  1.1814682745140617e-12\n"
     ]
    }
   ],
   "source": [
    "# Predict the prices on the test set\n",
    "y_pred = model.predict(X_test)\n",
    "\n",
    "# Calculate the mean squared error\n",
    "mse = mean_squared_error(y_test, y_pred)\n",
    "\n",
    "# Calculate the root mean squared error\n",
    "rmse = np.sqrt(mse)\n",
    "\n",
    "# Print the root mean squared error\n",
    "print(\"Root Mean Squared Error: \", rmse)"
   ]
  },
  {
   "cell_type": "code",
   "execution_count": 23,
   "id": "d0b8f2e3",
   "metadata": {
    "execution": {
     "iopub.execute_input": "2023-05-04T14:49:51.211758Z",
     "iopub.status.busy": "2023-05-04T14:49:51.211395Z",
     "iopub.status.idle": "2023-05-04T14:49:51.215759Z",
     "shell.execute_reply": "2023-05-04T14:49:51.214712Z"
    },
    "papermill": {
     "duration": 0.015622,
     "end_time": "2023-05-04T14:49:51.217635",
     "exception": false,
     "start_time": "2023-05-04T14:49:51.202013",
     "status": "completed"
    },
    "tags": []
   },
   "outputs": [],
   "source": [
    "# A Root Mean Squared Error (RMSE) of 1.1814682745140617e-12 means that, on average, the model's predictions are 1.1814682745140617e-12 units away \n",
    "# from the actual values. Since this value is very small, it indicates that the model has a very good fit to the data \n",
    "# and is able to accurately predict the prices."
   ]
  },
  {
   "cell_type": "markdown",
   "id": "3c8788a6",
   "metadata": {
    "papermill": {
     "duration": 0.007952,
     "end_time": "2023-05-04T14:49:51.233834",
     "exception": false,
     "start_time": "2023-05-04T14:49:51.225882",
     "status": "completed"
    },
    "tags": []
   },
   "source": [
    "Thank You!"
   ]
  },
  {
   "cell_type": "code",
   "execution_count": null,
   "id": "b43fc8ca",
   "metadata": {
    "papermill": {
     "duration": 0.007695,
     "end_time": "2023-05-04T14:49:51.249572",
     "exception": false,
     "start_time": "2023-05-04T14:49:51.241877",
     "status": "completed"
    },
    "tags": []
   },
   "outputs": [],
   "source": []
  }
 ],
 "metadata": {
  "kernelspec": {
   "display_name": "Python 3",
   "language": "python",
   "name": "python3"
  },
  "language_info": {
   "codemirror_mode": {
    "name": "ipython",
    "version": 3
   },
   "file_extension": ".py",
   "mimetype": "text/x-python",
   "name": "python",
   "nbconvert_exporter": "python",
   "pygments_lexer": "ipython3",
   "version": "3.10.10"
  },
  "papermill": {
   "default_parameters": {},
   "duration": 13.545161,
   "end_time": "2023-05-04T14:49:52.179622",
   "environment_variables": {},
   "exception": null,
   "input_path": "__notebook__.ipynb",
   "output_path": "__notebook__.ipynb",
   "parameters": {},
   "start_time": "2023-05-04T14:49:38.634461",
   "version": "2.4.0"
  }
 },
 "nbformat": 4,
 "nbformat_minor": 5
}
