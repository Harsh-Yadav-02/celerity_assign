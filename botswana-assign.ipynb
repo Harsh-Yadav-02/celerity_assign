{
 "cells": [
  {
   "cell_type": "code",
   "execution_count": 1,
   "id": "c3eb93f8",
   "metadata": {
    "execution": {
     "iopub.execute_input": "2023-04-18T20:13:45.783373Z",
     "iopub.status.busy": "2023-04-18T20:13:45.782676Z",
     "iopub.status.idle": "2023-04-18T20:13:45.792883Z",
     "shell.execute_reply": "2023-04-18T20:13:45.791645Z"
    },
    "papermill": {
     "duration": 0.02,
     "end_time": "2023-04-18T20:13:45.795815",
     "exception": false,
     "start_time": "2023-04-18T20:13:45.775815",
     "status": "completed"
    },
    "tags": []
   },
   "outputs": [],
   "source": [
    "import pandas as pd"
   ]
  },
  {
   "cell_type": "code",
   "execution_count": 2,
   "id": "4e77c30d",
   "metadata": {
    "_cell_guid": "b1076dfc-b9ad-4769-8c92-a6c4dae69d19",
    "_uuid": "8f2839f25d086af736a60e9eeb907d3b93b6e0e5",
    "execution": {
     "iopub.execute_input": "2023-04-18T20:13:45.805946Z",
     "iopub.status.busy": "2023-04-18T20:13:45.805504Z",
     "iopub.status.idle": "2023-04-18T20:13:45.822980Z",
     "shell.execute_reply": "2023-04-18T20:13:45.822061Z"
    },
    "papermill": {
     "duration": 0.025921,
     "end_time": "2023-04-18T20:13:45.825896",
     "exception": false,
     "start_time": "2023-04-18T20:13:45.799975",
     "status": "completed"
    },
    "tags": []
   },
   "outputs": [],
   "source": [
    "df1 = pd.read_csv('/kaggle/input/botswana/Botswana Data - Export Data.csv', header=None)"
   ]
  },
  {
   "cell_type": "code",
   "execution_count": 3,
   "id": "ddde9cb6",
   "metadata": {
    "execution": {
     "iopub.execute_input": "2023-04-18T20:13:45.836382Z",
     "iopub.status.busy": "2023-04-18T20:13:45.835273Z",
     "iopub.status.idle": "2023-04-18T20:13:45.847717Z",
     "shell.execute_reply": "2023-04-18T20:13:45.846757Z"
    },
    "papermill": {
     "duration": 0.020288,
     "end_time": "2023-04-18T20:13:45.850041",
     "exception": false,
     "start_time": "2023-04-18T20:13:45.829753",
     "status": "completed"
    },
    "tags": []
   },
   "outputs": [],
   "source": [
    "df2 = pd.read_csv('/kaggle/input/botswana/Botswana Data - Import Data.csv', header=None)"
   ]
  },
  {
   "cell_type": "code",
   "execution_count": 4,
   "id": "357d5830",
   "metadata": {
    "execution": {
     "iopub.execute_input": "2023-04-18T20:13:45.859978Z",
     "iopub.status.busy": "2023-04-18T20:13:45.859318Z",
     "iopub.status.idle": "2023-04-18T20:13:45.900857Z",
     "shell.execute_reply": "2023-04-18T20:13:45.899590Z"
    },
    "papermill": {
     "duration": 0.050408,
     "end_time": "2023-04-18T20:13:45.904340",
     "exception": false,
     "start_time": "2023-04-18T20:13:45.853932",
     "status": "completed"
    },
    "tags": []
   },
   "outputs": [
    {
     "data": {
      "text/html": [
       "<div>\n",
       "<style scoped>\n",
       "    .dataframe tbody tr th:only-of-type {\n",
       "        vertical-align: middle;\n",
       "    }\n",
       "\n",
       "    .dataframe tbody tr th {\n",
       "        vertical-align: top;\n",
       "    }\n",
       "\n",
       "    .dataframe thead th {\n",
       "        text-align: right;\n",
       "    }\n",
       "</style>\n",
       "<table border=\"1\" class=\"dataframe\">\n",
       "  <thead>\n",
       "    <tr style=\"text-align: right;\">\n",
       "      <th>1</th>\n",
       "      <th>Date</th>\n",
       "      <th>Exporter</th>\n",
       "      <th>Importer</th>\n",
       "      <th>HS Code</th>\n",
       "      <th>HS Code Description</th>\n",
       "      <th>Origin Country</th>\n",
       "      <th>Export Country</th>\n",
       "      <th>Destination Country</th>\n",
       "      <th>Port Of Entry</th>\n",
       "      <th>Place Of Discharge</th>\n",
       "      <th>...</th>\n",
       "      <th>Customs Value BWP</th>\n",
       "      <th>Customs Value USD</th>\n",
       "      <th>Declaration Office</th>\n",
       "      <th>Invoice Amount BWP</th>\n",
       "      <th>Freight BWP</th>\n",
       "      <th>Chapter</th>\n",
       "      <th>Heading</th>\n",
       "      <th>Sub Heading</th>\n",
       "      <th>Month</th>\n",
       "      <th>Year</th>\n",
       "    </tr>\n",
       "  </thead>\n",
       "  <tbody>\n",
       "    <tr>\n",
       "      <th>2</th>\n",
       "      <td>01-Aug-2021</td>\n",
       "      <td>BOTSWANA ASH (PTY)LTD</td>\n",
       "      <td>KAMOTO COPPER COMPANY</td>\n",
       "      <td>28362000</td>\n",
       "      <td>Disodium carbonate</td>\n",
       "      <td>Botswana</td>\n",
       "      <td>Botswana</td>\n",
       "      <td>DR Congo</td>\n",
       "      <td>Kolwezi</td>\n",
       "      <td>Kolwezi</td>\n",
       "      <td>...</td>\n",
       "      <td>107046.09</td>\n",
       "      <td>9684.7</td>\n",
       "      <td>Sowa Pan Airstrip</td>\n",
       "      <td>107046.09</td>\n",
       "      <td>5352.3</td>\n",
       "      <td>28</td>\n",
       "      <td>2836</td>\n",
       "      <td>283620</td>\n",
       "      <td>August</td>\n",
       "      <td>2021</td>\n",
       "    </tr>\n",
       "    <tr>\n",
       "      <th>3</th>\n",
       "      <td>01-Aug-2021</td>\n",
       "      <td>DUMATAU TRADING (PROPRIETARY) LIMITED</td>\n",
       "      <td>NEOPAK (PTY) LTD</td>\n",
       "      <td>47079000</td>\n",
       "      <td>Other Recovered (waste and scrap) paper or pap...</td>\n",
       "      <td>Botswana</td>\n",
       "      <td>Botswana</td>\n",
       "      <td>South Africa</td>\n",
       "      <td>Germiston</td>\n",
       "      <td>Tlokweng Gate</td>\n",
       "      <td>...</td>\n",
       "      <td>35574</td>\n",
       "      <td>3218.46</td>\n",
       "      <td>Tlokweng Gate</td>\n",
       "      <td>35574</td>\n",
       "      <td>1778.7</td>\n",
       "      <td>47</td>\n",
       "      <td>4707</td>\n",
       "      <td>470790</td>\n",
       "      <td>August</td>\n",
       "      <td>2021</td>\n",
       "    </tr>\n",
       "    <tr>\n",
       "      <th>4</th>\n",
       "      <td>01-Aug-2021</td>\n",
       "      <td>PRINTING AND PUBLISHING COMPANY (BOTSWANA) (PR...</td>\n",
       "      <td>CORRUSEAL RECYCLING ( PTY ) LTD</td>\n",
       "      <td>47079000</td>\n",
       "      <td>Other Recovered (waste and scrap) paper or pap...</td>\n",
       "      <td>Botswana</td>\n",
       "      <td>Botswana</td>\n",
       "      <td>South Africa</td>\n",
       "      <td>Springs</td>\n",
       "      <td>Tlokweng Gate</td>\n",
       "      <td>...</td>\n",
       "      <td>41067.75</td>\n",
       "      <td>3715.49</td>\n",
       "      <td>Tlokweng Gate</td>\n",
       "      <td>41067.75</td>\n",
       "      <td>2053.39</td>\n",
       "      <td>47</td>\n",
       "      <td>4707</td>\n",
       "      <td>470790</td>\n",
       "      <td>August</td>\n",
       "      <td>2021</td>\n",
       "    </tr>\n",
       "    <tr>\n",
       "      <th>5</th>\n",
       "      <td>13-Aug-2021</td>\n",
       "      <td>FINE PHARMACEUTICALS (PROPRIETARY) LIMITED</td>\n",
       "      <td>GEKA PHARMA PTY LTD</td>\n",
       "      <td>30049099</td>\n",
       "      <td>Other medicaments consisting of mixed or unmix...</td>\n",
       "      <td>United Arab Emirates</td>\n",
       "      <td>Botswana</td>\n",
       "      <td>Namibia</td>\n",
       "      <td>Windhoek</td>\n",
       "      <td>Gaborone Longroom</td>\n",
       "      <td>...</td>\n",
       "      <td>20524.3</td>\n",
       "      <td>1856.88</td>\n",
       "      <td>Mamuno Borderpost</td>\n",
       "      <td>20524.3</td>\n",
       "      <td>1026.21</td>\n",
       "      <td>30</td>\n",
       "      <td>3004</td>\n",
       "      <td>300490</td>\n",
       "      <td>August</td>\n",
       "      <td>2021</td>\n",
       "    </tr>\n",
       "    <tr>\n",
       "      <th>6</th>\n",
       "      <td>13-Aug-2021</td>\n",
       "      <td>MAKORO BRICKS &amp; TILE (PTY) LTD</td>\n",
       "      <td>ZAMBEZI GOLF CC</td>\n",
       "      <td>68101100</td>\n",
       "      <td>Building blocks and bricks</td>\n",
       "      <td>Botswana</td>\n",
       "      <td>Botswana</td>\n",
       "      <td>South Africa</td>\n",
       "      <td>Johannesburg</td>\n",
       "      <td>Martins Drift</td>\n",
       "      <td>...</td>\n",
       "      <td>27465</td>\n",
       "      <td>2484.82</td>\n",
       "      <td>Martins Drift</td>\n",
       "      <td>27465</td>\n",
       "      <td>1373.25</td>\n",
       "      <td>68</td>\n",
       "      <td>6810</td>\n",
       "      <td>681011</td>\n",
       "      <td>August</td>\n",
       "      <td>2021</td>\n",
       "    </tr>\n",
       "  </tbody>\n",
       "</table>\n",
       "<p>5 rows × 29 columns</p>\n",
       "</div>"
      ],
      "text/plain": [
       "1         Date                                           Exporter  \\\n",
       "2  01-Aug-2021                              BOTSWANA ASH (PTY)LTD   \n",
       "3  01-Aug-2021              DUMATAU TRADING (PROPRIETARY) LIMITED   \n",
       "4  01-Aug-2021  PRINTING AND PUBLISHING COMPANY (BOTSWANA) (PR...   \n",
       "5  13-Aug-2021         FINE PHARMACEUTICALS (PROPRIETARY) LIMITED   \n",
       "6  13-Aug-2021                     MAKORO BRICKS & TILE (PTY) LTD   \n",
       "\n",
       "1                         Importer   HS Code  \\\n",
       "2            KAMOTO COPPER COMPANY  28362000   \n",
       "3                 NEOPAK (PTY) LTD  47079000   \n",
       "4  CORRUSEAL RECYCLING ( PTY ) LTD  47079000   \n",
       "5              GEKA PHARMA PTY LTD  30049099   \n",
       "6                  ZAMBEZI GOLF CC  68101100   \n",
       "\n",
       "1                                HS Code Description        Origin Country  \\\n",
       "2                                 Disodium carbonate              Botswana   \n",
       "3  Other Recovered (waste and scrap) paper or pap...              Botswana   \n",
       "4  Other Recovered (waste and scrap) paper or pap...              Botswana   \n",
       "5  Other medicaments consisting of mixed or unmix...  United Arab Emirates   \n",
       "6                         Building blocks and bricks              Botswana   \n",
       "\n",
       "1 Export Country Destination Country Port Of Entry Place Of Discharge  ...  \\\n",
       "2       Botswana            DR Congo       Kolwezi            Kolwezi  ...   \n",
       "3       Botswana        South Africa     Germiston      Tlokweng Gate  ...   \n",
       "4       Botswana        South Africa       Springs      Tlokweng Gate  ...   \n",
       "5       Botswana             Namibia      Windhoek  Gaborone Longroom  ...   \n",
       "6       Botswana        South Africa  Johannesburg      Martins Drift  ...   \n",
       "\n",
       "1 Customs Value BWP Customs Value USD Declaration Office Invoice Amount BWP  \\\n",
       "2         107046.09            9684.7  Sowa Pan Airstrip          107046.09   \n",
       "3             35574           3218.46      Tlokweng Gate              35574   \n",
       "4          41067.75           3715.49      Tlokweng Gate           41067.75   \n",
       "5           20524.3           1856.88  Mamuno Borderpost            20524.3   \n",
       "6             27465           2484.82      Martins Drift              27465   \n",
       "\n",
       "1 Freight BWP Chapter Heading Sub Heading   Month  Year  \n",
       "2      5352.3      28    2836      283620  August  2021  \n",
       "3      1778.7      47    4707      470790  August  2021  \n",
       "4     2053.39      47    4707      470790  August  2021  \n",
       "5     1026.21      30    3004      300490  August  2021  \n",
       "6     1373.25      68    6810      681011  August  2021  \n",
       "\n",
       "[5 rows x 29 columns]"
      ]
     },
     "execution_count": 4,
     "metadata": {},
     "output_type": "execute_result"
    }
   ],
   "source": [
    "df1.columns = df1.iloc[1]\n",
    "df1 = df1.drop(index=[0, 1])\n",
    "df1.head()"
   ]
  },
  {
   "cell_type": "code",
   "execution_count": 5,
   "id": "423ced13",
   "metadata": {
    "execution": {
     "iopub.execute_input": "2023-04-18T20:13:45.914358Z",
     "iopub.status.busy": "2023-04-18T20:13:45.913931Z",
     "iopub.status.idle": "2023-04-18T20:13:45.940230Z",
     "shell.execute_reply": "2023-04-18T20:13:45.939055Z"
    },
    "papermill": {
     "duration": 0.03433,
     "end_time": "2023-04-18T20:13:45.942921",
     "exception": false,
     "start_time": "2023-04-18T20:13:45.908591",
     "status": "completed"
    },
    "tags": []
   },
   "outputs": [
    {
     "data": {
      "text/html": [
       "<div>\n",
       "<style scoped>\n",
       "    .dataframe tbody tr th:only-of-type {\n",
       "        vertical-align: middle;\n",
       "    }\n",
       "\n",
       "    .dataframe tbody tr th {\n",
       "        vertical-align: top;\n",
       "    }\n",
       "\n",
       "    .dataframe thead th {\n",
       "        text-align: right;\n",
       "    }\n",
       "</style>\n",
       "<table border=\"1\" class=\"dataframe\">\n",
       "  <thead>\n",
       "    <tr style=\"text-align: right;\">\n",
       "      <th>1</th>\n",
       "      <th>Date</th>\n",
       "      <th>Importer</th>\n",
       "      <th>Importer Address</th>\n",
       "      <th>Exporter</th>\n",
       "      <th>Declarant</th>\n",
       "      <th>Country</th>\n",
       "      <th>ORIGIN Origin Country</th>\n",
       "      <th>Origin Country</th>\n",
       "      <th>Export Country</th>\n",
       "      <th>Destination Country</th>\n",
       "      <th>...</th>\n",
       "      <th>Customs value USD</th>\n",
       "      <th>Declaration Office</th>\n",
       "      <th>Invoice Amount BWP</th>\n",
       "      <th>Freight BWP</th>\n",
       "      <th>Vat</th>\n",
       "      <th>Chapter</th>\n",
       "      <th>Heading</th>\n",
       "      <th>Subheading</th>\n",
       "      <th>Month</th>\n",
       "      <th>Year</th>\n",
       "    </tr>\n",
       "  </thead>\n",
       "  <tbody>\n",
       "    <tr>\n",
       "      <th>2</th>\n",
       "      <td>01-Aug-2021</td>\n",
       "      <td>WOOLWORTHS (BOTSWANA) (PROPRIETARY) LIMITED</td>\n",
       "      <td>P O BOX 500017</td>\n",
       "      <td>WOOLWORTHS</td>\n",
       "      <td>WOOLWORTHS (BOTSWANA) (PROPRIETARY) LIMITED</td>\n",
       "      <td>BOTSWANA</td>\n",
       "      <td>SOUTH AFRICA</td>\n",
       "      <td>South Africa</td>\n",
       "      <td>South Africa</td>\n",
       "      <td>Botswana</td>\n",
       "      <td>...</td>\n",
       "      <td>163.66</td>\n",
       "      <td>Tlokweng Gate</td>\n",
       "      <td>109753.6</td>\n",
       "      <td>33767.55</td>\n",
       "      <td>331.15</td>\n",
       "      <td>3</td>\n",
       "      <td>306</td>\n",
       "      <td>30639</td>\n",
       "      <td>August</td>\n",
       "      <td>2021</td>\n",
       "    </tr>\n",
       "    <tr>\n",
       "      <th>3</th>\n",
       "      <td>04-Aug-2021</td>\n",
       "      <td>S.R.J. ENTERPRISES (PROPRIETARY) LIMITED</td>\n",
       "      <td>PO BOX 281</td>\n",
       "      <td>TRUSEAL</td>\n",
       "      <td>GLOBE-TECH INVESTMENTS (PROPRIETARY) LIMITED</td>\n",
       "      <td>BOTSWANA</td>\n",
       "      <td>SOUTH AFRICA</td>\n",
       "      <td>South Africa</td>\n",
       "      <td>South Africa</td>\n",
       "      <td>Botswana</td>\n",
       "      <td>...</td>\n",
       "      <td>214.5</td>\n",
       "      <td>Tlokweng Gate</td>\n",
       "      <td>2370.89</td>\n",
       "      <td>118.54</td>\n",
       "      <td>348.5</td>\n",
       "      <td>40</td>\n",
       "      <td>4016</td>\n",
       "      <td>401693</td>\n",
       "      <td>August</td>\n",
       "      <td>2021</td>\n",
       "    </tr>\n",
       "    <tr>\n",
       "      <th>4</th>\n",
       "      <td>10-Aug-2021</td>\n",
       "      <td>VISITION ROYAL INVESTMENT (PROPRIETARY0 LIMITED</td>\n",
       "      <td>P O BOX 550296</td>\n",
       "      <td>YIWU BORZ E-COMMERCE CO LTD</td>\n",
       "      <td>NOTCHABOVE (PROPRIETARY) LIMITED</td>\n",
       "      <td>BOTSWANA</td>\n",
       "      <td>CHINA</td>\n",
       "      <td>China</td>\n",
       "      <td>China</td>\n",
       "      <td>Botswana</td>\n",
       "      <td>...</td>\n",
       "      <td>4.17</td>\n",
       "      <td>GABCON</td>\n",
       "      <td>122562.93</td>\n",
       "      <td>59375.32</td>\n",
       "      <td>9.55</td>\n",
       "      <td>84</td>\n",
       "      <td>8468</td>\n",
       "      <td>846880</td>\n",
       "      <td>August</td>\n",
       "      <td>2021</td>\n",
       "    </tr>\n",
       "    <tr>\n",
       "      <th>5</th>\n",
       "      <td>03-Aug-2021</td>\n",
       "      <td>BUILDERS TRADE DEPOT(BOTSWANA)(PTY)LTD</td>\n",
       "      <td>P O BOX 70021</td>\n",
       "      <td>GYPROC SAINT GTOBAIN</td>\n",
       "      <td>HYPER TRANSPORT (PROPRIETARY) LIMITED</td>\n",
       "      <td>BOTSWANA</td>\n",
       "      <td>SOUTH AFRICA</td>\n",
       "      <td>South Africa</td>\n",
       "      <td>South Africa</td>\n",
       "      <td>Botswana</td>\n",
       "      <td>...</td>\n",
       "      <td>2846.99</td>\n",
       "      <td>Ramatlabama Borderpost</td>\n",
       "      <td>158701.64</td>\n",
       "      <td>10190.57</td>\n",
       "      <td>4688.4</td>\n",
       "      <td>44</td>\n",
       "      <td>4418</td>\n",
       "      <td>441899</td>\n",
       "      <td>August</td>\n",
       "      <td>2021</td>\n",
       "    </tr>\n",
       "    <tr>\n",
       "      <th>6</th>\n",
       "      <td>11-Aug-2021</td>\n",
       "      <td>BOTGOOD INVESTMENTS (PRPPRIETARY) LIMITED</td>\n",
       "      <td>P.O. Box 50131</td>\n",
       "      <td>JUDYS PRIDE FASHIONS PTY LTD</td>\n",
       "      <td>BMR AGENTS (PROPRIETARY) LIMITED</td>\n",
       "      <td>BOTSWANA</td>\n",
       "      <td>SOUTH AFRICA</td>\n",
       "      <td>South Africa</td>\n",
       "      <td>South Africa</td>\n",
       "      <td>Botswana</td>\n",
       "      <td>...</td>\n",
       "      <td>654.42</td>\n",
       "      <td>Tlokweng Gate</td>\n",
       "      <td>7233.35</td>\n",
       "      <td>361.67</td>\n",
       "      <td>1063.3</td>\n",
       "      <td>68</td>\n",
       "      <td>6812</td>\n",
       "      <td>681291</td>\n",
       "      <td>August</td>\n",
       "      <td>2021</td>\n",
       "    </tr>\n",
       "  </tbody>\n",
       "</table>\n",
       "<p>5 rows × 34 columns</p>\n",
       "</div>"
      ],
      "text/plain": [
       "1         Date                                         Importer  \\\n",
       "2  01-Aug-2021      WOOLWORTHS (BOTSWANA) (PROPRIETARY) LIMITED   \n",
       "3  04-Aug-2021         S.R.J. ENTERPRISES (PROPRIETARY) LIMITED   \n",
       "4  10-Aug-2021  VISITION ROYAL INVESTMENT (PROPRIETARY0 LIMITED   \n",
       "5  03-Aug-2021           BUILDERS TRADE DEPOT(BOTSWANA)(PTY)LTD   \n",
       "6  11-Aug-2021        BOTGOOD INVESTMENTS (PRPPRIETARY) LIMITED   \n",
       "\n",
       "1 Importer Address                      Exporter  \\\n",
       "2   P O BOX 500017                    WOOLWORTHS   \n",
       "3       PO BOX 281                       TRUSEAL   \n",
       "4   P O BOX 550296   YIWU BORZ E-COMMERCE CO LTD   \n",
       "5    P O BOX 70021          GYPROC SAINT GTOBAIN   \n",
       "6   P.O. Box 50131  JUDYS PRIDE FASHIONS PTY LTD   \n",
       "\n",
       "1                                     Declarant   Country  \\\n",
       "2   WOOLWORTHS (BOTSWANA) (PROPRIETARY) LIMITED  BOTSWANA   \n",
       "3  GLOBE-TECH INVESTMENTS (PROPRIETARY) LIMITED  BOTSWANA   \n",
       "4              NOTCHABOVE (PROPRIETARY) LIMITED  BOTSWANA   \n",
       "5         HYPER TRANSPORT (PROPRIETARY) LIMITED  BOTSWANA   \n",
       "6              BMR AGENTS (PROPRIETARY) LIMITED  BOTSWANA   \n",
       "\n",
       "1 ORIGIN Origin Country Origin Country Export Country Destination Country  \\\n",
       "2          SOUTH AFRICA   South Africa   South Africa            Botswana   \n",
       "3          SOUTH AFRICA   South Africa   South Africa            Botswana   \n",
       "4                 CHINA          China          China            Botswana   \n",
       "5          SOUTH AFRICA   South Africa   South Africa            Botswana   \n",
       "6          SOUTH AFRICA   South Africa   South Africa            Botswana   \n",
       "\n",
       "1  ... Customs value USD      Declaration Office Invoice Amount BWP  \\\n",
       "2  ...            163.66           Tlokweng Gate           109753.6   \n",
       "3  ...             214.5           Tlokweng Gate            2370.89   \n",
       "4  ...              4.17                  GABCON          122562.93   \n",
       "5  ...           2846.99  Ramatlabama Borderpost          158701.64   \n",
       "6  ...            654.42           Tlokweng Gate            7233.35   \n",
       "\n",
       "1 Freight BWP     Vat Chapter Heading Subheading   Month  Year  \n",
       "2    33767.55  331.15       3     306      30639  August  2021  \n",
       "3      118.54   348.5      40    4016     401693  August  2021  \n",
       "4    59375.32    9.55      84    8468     846880  August  2021  \n",
       "5    10190.57  4688.4      44    4418     441899  August  2021  \n",
       "6      361.67  1063.3      68    6812     681291  August  2021  \n",
       "\n",
       "[5 rows x 34 columns]"
      ]
     },
     "execution_count": 5,
     "metadata": {},
     "output_type": "execute_result"
    }
   ],
   "source": [
    "df2.columns = df2.iloc[1]\n",
    "df2 = df2.drop(index=[0, 1])\n",
    "df2.head()"
   ]
  },
  {
   "cell_type": "code",
   "execution_count": 6,
   "id": "900fb686",
   "metadata": {
    "execution": {
     "iopub.execute_input": "2023-04-18T20:13:45.954158Z",
     "iopub.status.busy": "2023-04-18T20:13:45.953417Z",
     "iopub.status.idle": "2023-04-18T20:13:45.961249Z",
     "shell.execute_reply": "2023-04-18T20:13:45.960010Z"
    },
    "papermill": {
     "duration": 0.015847,
     "end_time": "2023-04-18T20:13:45.963494",
     "exception": false,
     "start_time": "2023-04-18T20:13:45.947647",
     "status": "completed"
    },
    "tags": []
   },
   "outputs": [
    {
     "data": {
      "text/plain": [
       "Index(['Date', 'Exporter', 'Importer', 'HS Code', 'HS Code Description',\n",
       "       'Origin Country', 'Export Country', 'Destination Country',\n",
       "       'Port Of Entry', 'Place Of Discharge', 'Declarant', 'Quantity',\n",
       "       'Quantity UOM', 'No Of Package Type', 'Package Type', 'Gross Weight',\n",
       "       'Gross Weight Uom', 'Net Weight', 'Net Weight UOM', 'Customs Value BWP',\n",
       "       'Customs Value USD', 'Declaration Office', 'Invoice Amount BWP',\n",
       "       'Freight BWP', 'Chapter', 'Heading', 'Sub Heading', 'Month', 'Year'],\n",
       "      dtype='object', name=1)"
      ]
     },
     "execution_count": 6,
     "metadata": {},
     "output_type": "execute_result"
    }
   ],
   "source": [
    "df1.columns"
   ]
  },
  {
   "cell_type": "code",
   "execution_count": 7,
   "id": "9659fe05",
   "metadata": {
    "execution": {
     "iopub.execute_input": "2023-04-18T20:13:45.974985Z",
     "iopub.status.busy": "2023-04-18T20:13:45.974215Z",
     "iopub.status.idle": "2023-04-18T20:13:45.982365Z",
     "shell.execute_reply": "2023-04-18T20:13:45.981253Z"
    },
    "papermill": {
     "duration": 0.016575,
     "end_time": "2023-04-18T20:13:45.984726",
     "exception": false,
     "start_time": "2023-04-18T20:13:45.968151",
     "status": "completed"
    },
    "tags": []
   },
   "outputs": [
    {
     "data": {
      "text/plain": [
       "Index(['Date', 'Importer', 'Importer Address', 'Exporter', 'Declarant',\n",
       "       'Country', 'ORIGIN Origin Country', 'Origin Country', 'Export Country',\n",
       "       'Destination Country', 'Port Of Entry', 'Place Of Discharge', 'Hs Code',\n",
       "       'Hs Code Description', 'Commercial Description', 'Gross Weight',\n",
       "       'Gross Weight UOM', 'Net Weight', 'Net Weight UOM', 'Quantity',\n",
       "       'Quantity UOM', 'No Of Packages', 'Package Type', 'Customs Value Bwp',\n",
       "       'Customs value USD', 'Declaration Office', 'Invoice Amount BWP',\n",
       "       'Freight BWP', 'Vat', 'Chapter', 'Heading', 'Subheading', 'Month',\n",
       "       'Year'],\n",
       "      dtype='object', name=1)"
      ]
     },
     "execution_count": 7,
     "metadata": {},
     "output_type": "execute_result"
    }
   ],
   "source": [
    "df2.columns"
   ]
  },
  {
   "cell_type": "code",
   "execution_count": 8,
   "id": "ff89efe4",
   "metadata": {
    "execution": {
     "iopub.execute_input": "2023-04-18T20:13:45.996633Z",
     "iopub.status.busy": "2023-04-18T20:13:45.995756Z",
     "iopub.status.idle": "2023-04-18T20:13:46.003670Z",
     "shell.execute_reply": "2023-04-18T20:13:46.002328Z"
    },
    "papermill": {
     "duration": 0.016577,
     "end_time": "2023-04-18T20:13:46.006081",
     "exception": false,
     "start_time": "2023-04-18T20:13:45.989504",
     "status": "completed"
    },
    "tags": []
   },
   "outputs": [
    {
     "data": {
      "text/plain": [
       "(16, 29)"
      ]
     },
     "execution_count": 8,
     "metadata": {},
     "output_type": "execute_result"
    }
   ],
   "source": [
    "df1.shape"
   ]
  },
  {
   "cell_type": "code",
   "execution_count": 9,
   "id": "9b90998c",
   "metadata": {
    "execution": {
     "iopub.execute_input": "2023-04-18T20:13:46.018444Z",
     "iopub.status.busy": "2023-04-18T20:13:46.017501Z",
     "iopub.status.idle": "2023-04-18T20:13:46.023739Z",
     "shell.execute_reply": "2023-04-18T20:13:46.022918Z"
    },
    "papermill": {
     "duration": 0.014737,
     "end_time": "2023-04-18T20:13:46.025914",
     "exception": false,
     "start_time": "2023-04-18T20:13:46.011177",
     "status": "completed"
    },
    "tags": []
   },
   "outputs": [
    {
     "data": {
      "text/plain": [
       "(11, 34)"
      ]
     },
     "execution_count": 9,
     "metadata": {},
     "output_type": "execute_result"
    }
   ],
   "source": [
    "df2.shape"
   ]
  },
  {
   "cell_type": "code",
   "execution_count": 10,
   "id": "689f9ca4",
   "metadata": {
    "execution": {
     "iopub.execute_input": "2023-04-18T20:13:46.037839Z",
     "iopub.status.busy": "2023-04-18T20:13:46.037438Z",
     "iopub.status.idle": "2023-04-18T20:13:46.046494Z",
     "shell.execute_reply": "2023-04-18T20:13:46.045349Z"
    },
    "papermill": {
     "duration": 0.018106,
     "end_time": "2023-04-18T20:13:46.049025",
     "exception": false,
     "start_time": "2023-04-18T20:13:46.030919",
     "status": "completed"
    },
    "tags": []
   },
   "outputs": [
    {
     "name": "stdout",
     "output_type": "stream",
     "text": [
      "['Freight BWP', 'Chapter', 'Net Weight UOM', 'Heading', 'Net Weight', 'Gross Weight', 'Place Of Discharge', 'Invoice Amount BWP', 'Quantity UOM', 'Origin Country', 'Declarant', 'Date', 'Destination Country', 'Month', 'Port Of Entry', 'Quantity', 'Exporter', 'Export Country', 'Importer', 'Package Type', 'Year', 'Declaration Office'] 22\n"
     ]
    }
   ],
   "source": [
    "l1 = ['Date', 'Exporter', 'Importer', 'HS Code', 'HS Code Description',\n",
    "       'Origin Country', 'Export Country', 'Destination Country',\n",
    "       'Port Of Entry', 'Place Of Discharge', 'Declarant', 'Quantity',\n",
    "       'Quantity UOM', 'No Of Package Type', 'Package Type', 'Gross Weight',\n",
    "       'Gross Weight Uom', 'Net Weight', 'Net Weight UOM', 'Customs Value BWP',\n",
    "       'Customs Value USD', 'Declaration Office', 'Invoice Amount BWP',\n",
    "       'Freight BWP', 'Chapter', 'Heading', 'Sub Heading', 'Month', 'Year']\n",
    "l2 = ['Date', 'Importer', 'Importer Address', 'Exporter', 'Declarant',\n",
    "       'Country', 'ORIGIN Origin Country', 'Origin Country', 'Export Country',\n",
    "       'Destination Country', 'Port Of Entry', 'Place Of Discharge', 'Hs Code',\n",
    "       'Hs Code Description', 'Commercial Description', 'Gross Weight',\n",
    "       'Gross Weight UOM', 'Net Weight', 'Net Weight UOM', 'Quantity',\n",
    "       'Quantity UOM', 'No Of Packages', 'Package Type', 'Customs Value Bwp',\n",
    "       'Customs value USD', 'Declaration Office', 'Invoice Amount BWP',\n",
    "       'Freight BWP', 'Vat', 'Chapter', 'Heading', 'Subheading', 'Month',\n",
    "       'Year']\n",
    "set1 = set(l1)\n",
    "set2 = set(l2)\n",
    "\n",
    "common_values = list(set1.intersection(set2))\n",
    "print(common_values, len(common_values))"
   ]
  },
  {
   "cell_type": "code",
   "execution_count": 11,
   "id": "c0b8616c",
   "metadata": {
    "execution": {
     "iopub.execute_input": "2023-04-18T20:13:46.062216Z",
     "iopub.status.busy": "2023-04-18T20:13:46.060917Z",
     "iopub.status.idle": "2023-04-18T20:13:46.090416Z",
     "shell.execute_reply": "2023-04-18T20:13:46.088860Z"
    },
    "papermill": {
     "duration": 0.039028,
     "end_time": "2023-04-18T20:13:46.093268",
     "exception": false,
     "start_time": "2023-04-18T20:13:46.054240",
     "status": "completed"
    },
    "tags": []
   },
   "outputs": [
    {
     "name": "stdout",
     "output_type": "stream",
     "text": [
      "Freight forwarder:\n",
      "['BOTSWANA ASH (PTY)LTD' 'BOI XPRESS INVESTMENT (PROPRIETARY) LIMITED'\n",
      " 'FINE PHARMACEUTICALS (PROPRIETARY) LIMITED'\n",
      " \"RACHEL'S CONSULTANCY (PROPRIETARY) LIMITED\"\n",
      " 'MOD- MOL INVESTMENTS (PROPRIETARY) LIMITED'\n",
      " 'IMPERILOG BOTSWANA (PROPRIETARY) LIMITED'\n",
      " 'BMR AGENTS (PROPRIETARY) LIMITED' 'NORTHERN TEXTILE MILLS (BOTS.)'\n",
      " 'RHINO STEEL ROLLING MILLS (PROPRIETARY) LIMITED'\n",
      " 'RWANKJIE CUSTOMS & CLEARING (PROPRIETARY) LIMITED'\n",
      " 'BORDER CARGO ASSOCIATES (PROPRIETARY) LIMITED'\n",
      " 'SEED AIR HOLDINGS (PROPRIETARY) LIMITED']\n",
      "Forwarder quotes:\n",
      "Declarant\n",
      "BMR AGENTS (PROPRIETARY) LIMITED                     10988.820000\n",
      "BOI XPRESS INVESTMENT (PROPRIETARY) LIMITED           1651.473333\n",
      "BORDER CARGO ASSOCIATES (PROPRIETARY) LIMITED         8385.000000\n",
      "BOTSWANA ASH (PTY)LTD                                 5352.300000\n",
      "FINE PHARMACEUTICALS (PROPRIETARY) LIMITED            1026.210000\n",
      "IMPERILOG BOTSWANA (PROPRIETARY) LIMITED             58896.610000\n",
      "MOD- MOL INVESTMENTS (PROPRIETARY) LIMITED             264.530000\n",
      "NORTHERN TEXTILE MILLS (BOTS.)                        1216.550000\n",
      "RACHEL'S CONSULTANCY (PROPRIETARY) LIMITED            1373.250000\n",
      "RHINO STEEL ROLLING MILLS (PROPRIETARY) LIMITED       4714.110000\n",
      "RWANKJIE CUSTOMS & CLEARING (PROPRIETARY) LIMITED     3628.100000\n",
      "SEED AIR HOLDINGS (PROPRIETARY) LIMITED                371.140000\n",
      "Name: Freight BWP, dtype: float64\n",
      "Forwarders by route:\n",
      "Origin Country        Destination Country\n",
      "Botswana              China                         [IMPERILOG BOTSWANA (PROPRIETARY) LIMITED]\n",
      "                      DR Congo                                         [BOTSWANA ASH (PTY)LTD]\n",
      "                      South Africa           [BOI XPRESS INVESTMENT (PROPRIETARY) LIMITED, ...\n",
      "South Africa          South Africa           [MOD- MOL INVESTMENTS (PROPRIETARY) LIMITED, B...\n",
      "United Arab Emirates  Namibia                     [FINE PHARMACEUTICALS (PROPRIETARY) LIMITED]\n",
      "Name: Declarant, dtype: object\n"
     ]
    }
   ],
   "source": [
    "df1['Freight BWP'] = pd.to_numeric(df1['Freight BWP'], errors='coerce')\n",
    "\n",
    "# Identify freight forwarders that service the trade route\n",
    "forwarders = df1['Declarant'].unique()\n",
    "\n",
    "# Estimate the best price quote by freight forwarders\n",
    "forwarder_quotes = df1.groupby('Declarant')['Freight BWP'].mean()\n",
    "\n",
    "# Define a function to estimate the cost of freight given weight, quantity, and other parameters\n",
    "#def estimate_freight_cost(weight, invoice, origin, destination):\n",
    "    # Use a formula or machine learning model to estimate the cost of freight\n",
    "    # based on the input parameters\n",
    "    # Return the estimated cost\n",
    "#    pass\n",
    "\n",
    "# Example usage of the function\n",
    "#estimated_cost = estimate_freight_cost(Gross Weight=100, Invoice Amount BWP=10, origin='Botswana', destination='USA')\n",
    "\n",
    "# Find and list freight forwarders who service the route\n",
    "forwarders_by_route = df1.groupby(['Origin Country', 'Destination Country'])['Declarant'].unique()\n",
    "\n",
    "# Print the results\n",
    "print('Freight forwarder:')\n",
    "print(forwarders)\n",
    "print('Forwarder quotes:')\n",
    "print(forwarder_quotes)\n",
    "#print('Estimated cost:', estimated_cost)\n",
    "print('Forwarders by route:')\n",
    "print(forwarders_by_route)\n"
   ]
  },
  {
   "cell_type": "code",
   "execution_count": null,
   "id": "9853e350",
   "metadata": {
    "papermill": {
     "duration": 0.005018,
     "end_time": "2023-04-18T20:13:46.103834",
     "exception": false,
     "start_time": "2023-04-18T20:13:46.098816",
     "status": "completed"
    },
    "tags": []
   },
   "outputs": [],
   "source": []
  }
 ],
 "metadata": {
  "kernelspec": {
   "display_name": "Python 3",
   "language": "python",
   "name": "python3"
  },
  "language_info": {
   "codemirror_mode": {
    "name": "ipython",
    "version": 3
   },
   "file_extension": ".py",
   "mimetype": "text/x-python",
   "name": "python",
   "nbconvert_exporter": "python",
   "pygments_lexer": "ipython3",
   "version": "3.7.12"
  },
  "papermill": {
   "default_parameters": {},
   "duration": 11.25898,
   "end_time": "2023-04-18T20:13:46.834154",
   "environment_variables": {},
   "exception": null,
   "input_path": "__notebook__.ipynb",
   "output_path": "__notebook__.ipynb",
   "parameters": {},
   "start_time": "2023-04-18T20:13:35.575174",
   "version": "2.4.0"
  }
 },
 "nbformat": 4,
 "nbformat_minor": 5
}
